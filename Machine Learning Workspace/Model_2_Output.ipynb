{
  "nbformat": 4,
  "nbformat_minor": 0,
  "metadata": {
    "colab": {
      "name": "Model-1.ipynb",
      "provenance": [],
      "collapsed_sections": [],
      "toc_visible": true
    },
    "kernelspec": {
      "name": "python3",
      "display_name": "Python 3"
    }
  },
  "cells": [
    {
      "cell_type": "markdown",
      "metadata": {
        "id": "u_XxDi99gDZ1"
      },
      "source": [
        "# Eğitime Hazırlık\n"
      ]
    },
    {
      "cell_type": "code",
      "metadata": {
        "id": "k4gMl2v4rfDZ"
      },
      "source": [
        "#Gerekli kütüphaneler\n",
        "import numpy as np \n",
        "import pandas as pd \n",
        "from sklearn.feature_extraction.text import CountVectorizer\n",
        "from keras.preprocessing.text import Tokenizer\n",
        "from keras.preprocessing.sequence import pad_sequences\n",
        "from keras.models import Sequential\n",
        "from keras.layers import Dense, Embedding, LSTM, SpatialDropout1D\n",
        "from sklearn.model_selection import train_test_split\n",
        "from keras.utils.np_utils import to_categorical\n",
        "from sklearn.utils import resample\n",
        "from sklearn.utils import shuffle\n",
        "import re\n",
        "import string"
      ],
      "execution_count": null,
      "outputs": []
    },
    {
      "cell_type": "code",
      "metadata": {
        "id": "GDxIw1dDr8e-"
      },
      "source": [
        "#dataset okuma\n",
        "data = pd.read_csv('/content/TweetsText.csv')"
      ],
      "execution_count": null,
      "outputs": []
    },
    {
      "cell_type": "code",
      "metadata": {
        "colab": {
          "base_uri": "https://localhost:8080/",
          "height": 197
        },
        "id": "6CP2QcV9sBJd",
        "outputId": "cade0ef7-c178-4e23-f6e5-48b4d7ee473c"
      },
      "source": [
        "#datasetteki ilk 5 verinin görünümü\n",
        "data.head()"
      ],
      "execution_count": null,
      "outputs": [
        {
          "output_type": "execute_result",
          "data": {
            "text/html": [
              "<div>\n",
              "<style scoped>\n",
              "    .dataframe tbody tr th:only-of-type {\n",
              "        vertical-align: middle;\n",
              "    }\n",
              "\n",
              "    .dataframe tbody tr th {\n",
              "        vertical-align: top;\n",
              "    }\n",
              "\n",
              "    .dataframe thead th {\n",
              "        text-align: right;\n",
              "    }\n",
              "</style>\n",
              "<table border=\"1\" class=\"dataframe\">\n",
              "  <thead>\n",
              "    <tr style=\"text-align: right;\">\n",
              "      <th></th>\n",
              "      <th>text</th>\n",
              "      <th>airline_sentiment</th>\n",
              "    </tr>\n",
              "  </thead>\n",
              "  <tbody>\n",
              "    <tr>\n",
              "      <th>0</th>\n",
              "      <td>@VirginAmerica What @dhepburn said.</td>\n",
              "      <td>neutral</td>\n",
              "    </tr>\n",
              "    <tr>\n",
              "      <th>1</th>\n",
              "      <td>@VirginAmerica plus you've added commercials t...</td>\n",
              "      <td>positive</td>\n",
              "    </tr>\n",
              "    <tr>\n",
              "      <th>2</th>\n",
              "      <td>@VirginAmerica I didn't today... Must mean I n...</td>\n",
              "      <td>neutral</td>\n",
              "    </tr>\n",
              "    <tr>\n",
              "      <th>3</th>\n",
              "      <td>@VirginAmerica it's really aggressive to blast...</td>\n",
              "      <td>negative</td>\n",
              "    </tr>\n",
              "    <tr>\n",
              "      <th>4</th>\n",
              "      <td>@VirginAmerica and it's a really big bad thing...</td>\n",
              "      <td>negative</td>\n",
              "    </tr>\n",
              "  </tbody>\n",
              "</table>\n",
              "</div>"
            ],
            "text/plain": [
              "                                                text airline_sentiment\n",
              "0                @VirginAmerica What @dhepburn said.           neutral\n",
              "1  @VirginAmerica plus you've added commercials t...          positive\n",
              "2  @VirginAmerica I didn't today... Must mean I n...           neutral\n",
              "3  @VirginAmerica it's really aggressive to blast...          negative\n",
              "4  @VirginAmerica and it's a really big bad thing...          negative"
            ]
          },
          "metadata": {
            "tags": []
          },
          "execution_count": 26
        }
      ]
    },
    {
      "cell_type": "code",
      "metadata": {
        "colab": {
          "base_uri": "https://localhost:8080/",
          "height": 197
        },
        "id": "S7HsQgv0sPp-",
        "outputId": "214d3719-f761-45a1-f8e7-1cbedc83249e"
      },
      "source": [
        "#neutral olan kısımların göz ardı edilerek listelenmesi\n",
        "data=data[data['airline_sentiment']!='neutral']\n",
        "data.head()"
      ],
      "execution_count": null,
      "outputs": [
        {
          "output_type": "execute_result",
          "data": {
            "text/html": [
              "<div>\n",
              "<style scoped>\n",
              "    .dataframe tbody tr th:only-of-type {\n",
              "        vertical-align: middle;\n",
              "    }\n",
              "\n",
              "    .dataframe tbody tr th {\n",
              "        vertical-align: top;\n",
              "    }\n",
              "\n",
              "    .dataframe thead th {\n",
              "        text-align: right;\n",
              "    }\n",
              "</style>\n",
              "<table border=\"1\" class=\"dataframe\">\n",
              "  <thead>\n",
              "    <tr style=\"text-align: right;\">\n",
              "      <th></th>\n",
              "      <th>text</th>\n",
              "      <th>airline_sentiment</th>\n",
              "    </tr>\n",
              "  </thead>\n",
              "  <tbody>\n",
              "    <tr>\n",
              "      <th>1</th>\n",
              "      <td>@VirginAmerica plus you've added commercials t...</td>\n",
              "      <td>positive</td>\n",
              "    </tr>\n",
              "    <tr>\n",
              "      <th>3</th>\n",
              "      <td>@VirginAmerica it's really aggressive to blast...</td>\n",
              "      <td>negative</td>\n",
              "    </tr>\n",
              "    <tr>\n",
              "      <th>4</th>\n",
              "      <td>@VirginAmerica and it's a really big bad thing...</td>\n",
              "      <td>negative</td>\n",
              "    </tr>\n",
              "    <tr>\n",
              "      <th>5</th>\n",
              "      <td>@VirginAmerica seriously would pay $30 a fligh...</td>\n",
              "      <td>negative</td>\n",
              "    </tr>\n",
              "    <tr>\n",
              "      <th>6</th>\n",
              "      <td>@VirginAmerica yes, nearly every time I fly VX...</td>\n",
              "      <td>positive</td>\n",
              "    </tr>\n",
              "  </tbody>\n",
              "</table>\n",
              "</div>"
            ],
            "text/plain": [
              "                                                text airline_sentiment\n",
              "1  @VirginAmerica plus you've added commercials t...          positive\n",
              "3  @VirginAmerica it's really aggressive to blast...          negative\n",
              "4  @VirginAmerica and it's a really big bad thing...          negative\n",
              "5  @VirginAmerica seriously would pay $30 a fligh...          negative\n",
              "6  @VirginAmerica yes, nearly every time I fly VX...          positive"
            ]
          },
          "metadata": {
            "tags": []
          },
          "execution_count": 5
        }
      ]
    },
    {
      "cell_type": "code",
      "metadata": {
        "id": "DgJ_soB_smlO"
      },
      "source": [
        "#dataset verilerinin temizlenmesi\n",
        "def clean_tweet(text):\n",
        "    tweet = ''\n",
        "    tweet = re.sub('['+string.punctuation+']', '', text)\n",
        "    tweet = re.sub(r\"http\\S+|www\\S+|https\\S+\", '', text, flags=re.MULTILINE)\n",
        "    # Remove user @ references and '#' from tweet\n",
        "    tweet = re.sub(r'\\@\\w+|\\#','', text)\n",
        "    return tweet"
      ],
      "execution_count": null,
      "outputs": []
    },
    {
      "cell_type": "code",
      "metadata": {
        "id": "VNecMGIysoZO"
      },
      "source": [
        "#temizlenen verilerin datasete uygulanması\n",
        "data['text'] = data['text'].apply(lambda x: clean_tweet(x))"
      ],
      "execution_count": null,
      "outputs": []
    },
    {
      "cell_type": "code",
      "metadata": {
        "colab": {
          "base_uri": "https://localhost:8080/",
          "height": 197
        },
        "id": "Q7yAmZORstPm",
        "outputId": "e9ab0096-d58c-40d2-c795-ddfd4b067b82"
      },
      "source": [
        "#temizleme işlemlerinden sonra datasetin içindeki ilk 5 veri\n",
        "data.head()"
      ],
      "execution_count": null,
      "outputs": [
        {
          "output_type": "execute_result",
          "data": {
            "text/html": [
              "<div>\n",
              "<style scoped>\n",
              "    .dataframe tbody tr th:only-of-type {\n",
              "        vertical-align: middle;\n",
              "    }\n",
              "\n",
              "    .dataframe tbody tr th {\n",
              "        vertical-align: top;\n",
              "    }\n",
              "\n",
              "    .dataframe thead th {\n",
              "        text-align: right;\n",
              "    }\n",
              "</style>\n",
              "<table border=\"1\" class=\"dataframe\">\n",
              "  <thead>\n",
              "    <tr style=\"text-align: right;\">\n",
              "      <th></th>\n",
              "      <th>text</th>\n",
              "      <th>airline_sentiment</th>\n",
              "    </tr>\n",
              "  </thead>\n",
              "  <tbody>\n",
              "    <tr>\n",
              "      <th>0</th>\n",
              "      <td>What  said.</td>\n",
              "      <td>neutral</td>\n",
              "    </tr>\n",
              "    <tr>\n",
              "      <th>1</th>\n",
              "      <td>plus you've added commercials to the experien...</td>\n",
              "      <td>positive</td>\n",
              "    </tr>\n",
              "    <tr>\n",
              "      <th>2</th>\n",
              "      <td>I didn't today... Must mean I need to take an...</td>\n",
              "      <td>neutral</td>\n",
              "    </tr>\n",
              "    <tr>\n",
              "      <th>3</th>\n",
              "      <td>it's really aggressive to blast obnoxious \"en...</td>\n",
              "      <td>negative</td>\n",
              "    </tr>\n",
              "    <tr>\n",
              "      <th>4</th>\n",
              "      <td>and it's a really big bad thing about it</td>\n",
              "      <td>negative</td>\n",
              "    </tr>\n",
              "  </tbody>\n",
              "</table>\n",
              "</div>"
            ],
            "text/plain": [
              "                                                text airline_sentiment\n",
              "0                                        What  said.           neutral\n",
              "1   plus you've added commercials to the experien...          positive\n",
              "2   I didn't today... Must mean I need to take an...           neutral\n",
              "3   it's really aggressive to blast obnoxious \"en...          negative\n",
              "4           and it's a really big bad thing about it          negative"
            ]
          },
          "metadata": {
            "tags": []
          },
          "execution_count": 29
        }
      ]
    },
    {
      "cell_type": "code",
      "metadata": {
        "colab": {
          "base_uri": "https://localhost:8080/",
          "height": 251
        },
        "id": "h62ebyves9Ve",
        "outputId": "b9ec3376-b3e1-4cff-c750-69dc1035a30d"
      },
      "source": [
        "#negatif ve pozitif verilerin boyutu\n",
        "print(data[ data['airline_sentiment'] == 'positive'].size)\n",
        "print(data[ data['airline_sentiment'] == 'negative'].size)\n",
        "print(data[ data['airline_sentiment'] == 'neutral'].size)\n",
        "\n",
        "#dataset içindeki tüm verilerde bulunan 'rt' nin boşluk ile değiştirilmesi\n",
        "for idx,row in data.iterrows():\n",
        "    row[0] = row[0].replace('rt','')\n",
        "data.head()"
      ],
      "execution_count": null,
      "outputs": [
        {
          "output_type": "stream",
          "text": [
            "4726\n",
            "18356\n",
            "0\n"
          ],
          "name": "stdout"
        },
        {
          "output_type": "execute_result",
          "data": {
            "text/html": [
              "<div>\n",
              "<style scoped>\n",
              "    .dataframe tbody tr th:only-of-type {\n",
              "        vertical-align: middle;\n",
              "    }\n",
              "\n",
              "    .dataframe tbody tr th {\n",
              "        vertical-align: top;\n",
              "    }\n",
              "\n",
              "    .dataframe thead th {\n",
              "        text-align: right;\n",
              "    }\n",
              "</style>\n",
              "<table border=\"1\" class=\"dataframe\">\n",
              "  <thead>\n",
              "    <tr style=\"text-align: right;\">\n",
              "      <th></th>\n",
              "      <th>text</th>\n",
              "      <th>airline_sentiment</th>\n",
              "    </tr>\n",
              "  </thead>\n",
              "  <tbody>\n",
              "    <tr>\n",
              "      <th>1</th>\n",
              "      <td>plus you've added commercials to the experien...</td>\n",
              "      <td>positive</td>\n",
              "    </tr>\n",
              "    <tr>\n",
              "      <th>3</th>\n",
              "      <td>it's really aggressive to blast obnoxious \"en...</td>\n",
              "      <td>negative</td>\n",
              "    </tr>\n",
              "    <tr>\n",
              "      <th>4</th>\n",
              "      <td>and it's a really big bad thing about it</td>\n",
              "      <td>negative</td>\n",
              "    </tr>\n",
              "    <tr>\n",
              "      <th>5</th>\n",
              "      <td>seriously would pay $30 a flight for seats th...</td>\n",
              "      <td>negative</td>\n",
              "    </tr>\n",
              "    <tr>\n",
              "      <th>6</th>\n",
              "      <td>yes, nearly every time I fly VX this “ear wor...</td>\n",
              "      <td>positive</td>\n",
              "    </tr>\n",
              "  </tbody>\n",
              "</table>\n",
              "</div>"
            ],
            "text/plain": [
              "                                                text airline_sentiment\n",
              "1   plus you've added commercials to the experien...          positive\n",
              "3   it's really aggressive to blast obnoxious \"en...          negative\n",
              "4           and it's a really big bad thing about it          negative\n",
              "5   seriously would pay $30 a flight for seats th...          negative\n",
              "6   yes, nearly every time I fly VX this “ear wor...          positive"
            ]
          },
          "metadata": {
            "tags": []
          },
          "execution_count": 9
        }
      ]
    },
    {
      "cell_type": "markdown",
      "metadata": {
        "id": "dpfjodygBBy5"
      },
      "source": [
        "# Model Eğitim Aşaması"
      ]
    },
    {
      "cell_type": "code",
      "metadata": {
        "colab": {
          "base_uri": "https://localhost:8080/"
        },
        "id": "9Hfec74FtECG",
        "outputId": "90cdc1a1-6475-4c76-aa6c-e53c5fd4e816"
      },
      "source": [
        "#max özellik sayısı 2000 olarak ayarlandı\n",
        "max_fatures = 5000\n",
        "#metni vektörleştirmek ve dizilere dönüşütürmek için Tokenizer kullanıldı. Boşluğa göre cümleler ayrıldı.\n",
        "tokenizer = Tokenizer(num_words=max_fatures, split=' ')\n",
        "#kelime indexi oluşturuldu. text kolonundaki her cümlenin kelimesi ayrı ayrı indexlendi.\n",
        "tokenizer.fit_on_texts(data['text'].values)\n",
        "#texts_to_sequence ile kelimeler tam sayı dizilerine dönüştürüldü.\n",
        "X = tokenizer.texts_to_sequences(data['text'].values)\n",
        "#listedeki tüm dizilerin aynı uzunluğa sahip olması sağlandı.\n",
        "X = pad_sequences(X)\n",
        "#elde edilen diziden bir örnek.\n",
        "X[:2]"
      ],
      "execution_count": null,
      "outputs": [
        {
          "output_type": "execute_result",
          "data": {
            "text/plain": [
              "array([[   0,    0,    0,    0,    0,    0,    0,    0,    0,    0,    0,\n",
              "           0,    0,    0,    0,    0,    0,    0,    0,    0,    0,    0,\n",
              "           0,    0,    0,    0,  568,  524, 1280, 2380,    1,    2,  171],\n",
              "       [   0,    0,    0,    0,    0,    0,    0,    0,    0,    0,    0,\n",
              "           0,    0,    0,    0,    0,    0,    0,   83,  117, 3211,    1,\n",
              "        4020, 4021,  953,   12,   15, 4022,   53,   51,   20,  477, 2381]],\n",
              "      dtype=int32)"
            ]
          },
          "metadata": {
            "tags": []
          },
          "execution_count": 12
        }
      ]
    },
    {
      "cell_type": "code",
      "metadata": {
        "colab": {
          "base_uri": "https://localhost:8080/"
        },
        "id": "BpYqfcSgtGtt",
        "outputId": "b5361610-d083-49ff-b7dc-0781caab1b7c"
      },
      "source": [
        "#Lstm model eğitim hiperparametreleri, değerler iyi sonuç elde etmek için değişkenlik gösterebilir.\n",
        "embed_dim = 128\n",
        "lstm_out = 196\n",
        "\n",
        "model = Sequential()\n",
        "model.add(Embedding(max_fatures, embed_dim,input_length = X.shape[1]))\n",
        "model.add(SpatialDropout1D(0.4))\n",
        "model.add(LSTM(lstm_out, dropout=0.2, recurrent_dropout=0.2))\n",
        "#Aktivasyon yöntemi olarak softmax kullanıldı. Çünkü ağ kategorik çapraz entropi kullanmaktadır.\n",
        "model.add(Dense(2,activation='softmax'))\n",
        "#Metrics olarak Accuracy baz alındı.\n",
        "model.compile(loss = 'categorical_crossentropy', optimizer='adam',metrics = ['accuracy'])\n",
        "#Model özeti\n",
        "print(model.summary())"
      ],
      "execution_count": null,
      "outputs": [
        {
          "output_type": "stream",
          "text": [
            "Model: \"sequential\"\n",
            "_________________________________________________________________\n",
            "Layer (type)                 Output Shape              Param #   \n",
            "=================================================================\n",
            "embedding (Embedding)        (None, 33, 128)           640000    \n",
            "_________________________________________________________________\n",
            "spatial_dropout1d (SpatialDr (None, 33, 128)           0         \n",
            "_________________________________________________________________\n",
            "lstm (LSTM)                  (None, 196)               254800    \n",
            "_________________________________________________________________\n",
            "dense (Dense)                (None, 2)                 394       \n",
            "=================================================================\n",
            "Total params: 895,194\n",
            "Trainable params: 895,194\n",
            "Non-trainable params: 0\n",
            "_________________________________________________________________\n",
            "None\n"
          ],
          "name": "stdout"
        }
      ]
    },
    {
      "cell_type": "code",
      "metadata": {
        "colab": {
          "base_uri": "https://localhost:8080/"
        },
        "id": "OpPZED05tZpF",
        "outputId": "fa2c0862-77b6-44e1-af67-1b38bb0f4c85"
      },
      "source": [
        "#Kategoriler 0 ve 1 haline dönüştürüldü.\n",
        "Y = pd.get_dummies(data['airline_sentiment']).values\n",
        "#Veriler eğitim ve test olmak üzere ayrıldı.\n",
        "X_train, X_test, Y_train, Y_test = train_test_split(X,Y, test_size = 0.20, random_state = 42)\n",
        "#Eğitim içi ayrılan bölüm\n",
        "print(X_train.shape,Y_train.shape)\n",
        "#Test için ayrılan bölüm\n",
        "print(X_test.shape,Y_test.shape)\n",
        "print(Y)"
      ],
      "execution_count": null,
      "outputs": [
        {
          "output_type": "stream",
          "text": [
            "(9232, 33) (9232, 2)\n",
            "(2309, 33) (2309, 2)\n",
            "[[0 1]\n",
            " [1 0]\n",
            " [1 0]\n",
            " ...\n",
            " [0 1]\n",
            " [1 0]\n",
            " [1 0]]\n"
          ],
          "name": "stdout"
        }
      ]
    },
    {
      "cell_type": "code",
      "metadata": {
        "id": "XBVHolp65_Hs"
      },
      "source": [
        "from keras.callbacks import EarlyStopping\n",
        "es = EarlyStopping(monitor='val_loss', mode='min', verbose=1,patience=3)"
      ],
      "execution_count": null,
      "outputs": []
    },
    {
      "cell_type": "code",
      "metadata": {
        "id": "NQzpI3M28CyT"
      },
      "source": [
        "from keras.callbacks import ModelCheckpoint\n",
        "mc = ModelCheckpoint('best_model.h5', monitor='val_accuracy', mode='max', verbose=1, save_best_only=True)"
      ],
      "execution_count": null,
      "outputs": []
    },
    {
      "cell_type": "code",
      "metadata": {
        "colab": {
          "base_uri": "https://localhost:8080/"
        },
        "id": "_fK0XPWmtl1G",
        "outputId": "f5ffc68c-5e0c-461d-941d-c2ad8e8fba99"
      },
      "source": [
        "batch_size = 128\n",
        "history=model.fit(X_train, Y_train, validation_split=0.2, epochs = 50, batch_size=batch_size, verbose = 1,callbacks=[es,mc])"
      ],
      "execution_count": null,
      "outputs": [
        {
          "output_type": "stream",
          "text": [
            "Epoch 1/50\n",
            "58/58 [==============================] - 30s 461ms/step - loss: 0.5353 - accuracy: 0.7789 - val_loss: 0.3604 - val_accuracy: 0.8403\n",
            "\n",
            "Epoch 00001: val_accuracy improved from -inf to 0.84028, saving model to best_model.h5\n",
            "Epoch 2/50\n",
            "58/58 [==============================] - 26s 451ms/step - loss: 0.2872 - accuracy: 0.8793 - val_loss: 0.2590 - val_accuracy: 0.8944\n",
            "\n",
            "Epoch 00002: val_accuracy improved from 0.84028 to 0.89442, saving model to best_model.h5\n",
            "Epoch 3/50\n",
            "58/58 [==============================] - 27s 457ms/step - loss: 0.1611 - accuracy: 0.9423 - val_loss: 0.2295 - val_accuracy: 0.9025\n",
            "\n",
            "Epoch 00003: val_accuracy improved from 0.89442 to 0.90254, saving model to best_model.h5\n",
            "Epoch 4/50\n",
            "58/58 [==============================] - 26s 449ms/step - loss: 0.1148 - accuracy: 0.9603 - val_loss: 0.2883 - val_accuracy: 0.9031\n",
            "\n",
            "Epoch 00004: val_accuracy improved from 0.90254 to 0.90309, saving model to best_model.h5\n",
            "Epoch 5/50\n",
            "58/58 [==============================] - 26s 446ms/step - loss: 0.0931 - accuracy: 0.9714 - val_loss: 0.2698 - val_accuracy: 0.9074\n",
            "\n",
            "Epoch 00005: val_accuracy improved from 0.90309 to 0.90742, saving model to best_model.h5\n",
            "Epoch 6/50\n",
            "58/58 [==============================] - 26s 440ms/step - loss: 0.0627 - accuracy: 0.9757 - val_loss: 0.3067 - val_accuracy: 0.9025\n",
            "\n",
            "Epoch 00006: val_accuracy did not improve from 0.90742\n",
            "Epoch 00006: early stopping\n"
          ],
          "name": "stdout"
        }
      ]
    },
    {
      "cell_type": "code",
      "metadata": {
        "id": "_qfE_mHj9JZt"
      },
      "source": [
        "from keras.models import load_model\n",
        "# load the saved model\n",
        "saved_model = load_model('best_model.h5')"
      ],
      "execution_count": null,
      "outputs": []
    },
    {
      "cell_type": "code",
      "metadata": {
        "colab": {
          "base_uri": "https://localhost:8080/"
        },
        "id": "nP-E18wY9ZWk",
        "outputId": "54648322-ccdf-4da4-fcdc-2c3530740716"
      },
      "source": [
        "_, train_acc = saved_model.evaluate(X_train, Y_train, verbose=0)\n",
        "_, test_acc = saved_model.evaluate(X_test, Y_test, verbose=0)\n",
        "print('Train: %.3f, Test: %.3f' % (train_acc, test_acc))"
      ],
      "execution_count": null,
      "outputs": [
        {
          "output_type": "stream",
          "text": [
            "Train: 0.966, Test: 0.923\n"
          ],
          "name": "stdout"
        }
      ]
    },
    {
      "cell_type": "code",
      "metadata": {
        "colab": {
          "base_uri": "https://localhost:8080/",
          "height": 264
        },
        "id": "gqSgVazD3Z0f",
        "outputId": "7311c043-7f98-44c4-a577-4e7eaeaf40cb"
      },
      "source": [
        "#Model eğitim sonucunda oluşan accuracy ve loss grafiği\n",
        "from matplotlib import pyplot as plt\n",
        "plt.plot(history.history['accuracy'], label='accuracy')\n",
        "plt.plot(history.history['loss'], label='loss')\n",
        "plt.legend()\n",
        "plt.show()"
      ],
      "execution_count": null,
      "outputs": [
        {
          "output_type": "display_data",
          "data": {
            "image/png": "[encoded data removed]",
            "text/plain": [
              "<Figure size 432x288 with 1 Axes>"
            ]
          },
          "metadata": {
            "tags": [],
            "needs_background": "light"
          }
        }
      ]
    },
    {
      "cell_type": "code",
      "metadata": {
        "colab": {
          "base_uri": "https://localhost:8080/",
          "height": 264
        },
        "id": "LrtlHKsZ4aWa",
        "outputId": "7c0e0b7f-5c48-4f0b-a4e9-19bb56415d2f"
      },
      "source": [
        "plt.plot(history.history['val_loss'], label='val_loss')\n",
        "plt.plot(history.history['val_accuracy'], label='val_accuracy')\n",
        "plt.legend()\n",
        "plt.show()"
      ],
      "execution_count": null,
      "outputs": [
        {
          "output_type": "display_data",
          "data": {
            "image/png": "[encoded data removed]",
            "text/plain": [
              "<Figure size 432x288 with 1 Axes>"
            ]
          },
          "metadata": {
            "tags": [],
            "needs_background": "light"
          }
        }
      ]
    },
    {
      "cell_type": "code",
      "metadata": {
        "id": "HEil0wJ90wP6",
        "colab": {
          "base_uri": "https://localhost:8080/"
        },
        "outputId": "0b9feb3a-dc6c-4bf5-d20a-9d151a1008f2"
      },
      "source": [
        "#Tahmin yaparken pozitif veya negatif olma durumunu net bir şekilde göstermesi için predict_classes kullanıldı. \n",
        "Y_pred = model.predict_classes(X_test,batch_size = batch_size,)"
      ],
      "execution_count": null,
      "outputs": [
        {
          "output_type": "stream",
          "text": [
            "/usr/local/lib/python3.7/dist-packages/tensorflow/python/keras/engine/sequential.py:450: UserWarning: `model.predict_classes()` is deprecated and will be removed after 2021-01-01. Please use instead:* `np.argmax(model.predict(x), axis=-1)`,   if your model does multi-class classification   (e.g. if it uses a `softmax` last-layer activation).* `(model.predict(x) > 0.5).astype(\"int32\")`,   if your model does binary classification   (e.g. if it uses a `sigmoid` last-layer activation).\n",
            "  warnings.warn('`model.predict_classes()` is deprecated and '\n"
          ],
          "name": "stderr"
        }
      ]
    },
    {
      "cell_type": "code",
      "metadata": {
        "colab": {
          "base_uri": "https://localhost:8080/"
        },
        "id": "sHMO4TQN00nJ",
        "outputId": "e7bba37d-e4d9-4e9f-f9f6-decc9697686c"
      },
      "source": [
        "from sklearn.metrics import confusion_matrix,classification_report,f1_score,accuracy_score,precision_score,recall_score,log_loss\n",
        "#Dataframe'de gerçek değer(true) ve tahmin edilen değerler(pred) ayarlandı. \n",
        "df_test = pd.DataFrame({'true': Y_test.tolist(), 'pred':Y_pred})\n",
        "df_test['true'] = df_test['true'].apply(lambda x: np.argmax(x))\n",
        "#Model eğitim sonucunda oluşan confusion matrix değerleri konsola yazdırıldı.\n",
        "print(\"confusion matrix:\\n\",confusion_matrix(df_test.true, df_test.pred))\n",
        "#Son olarak Classification raporu konsola yazdırıldı.\n",
        "print(\"Classification_Report:\\n\",classification_report(df_test.true, df_test.pred))"
      ],
      "execution_count": null,
      "outputs": [
        {
          "output_type": "stream",
          "text": [
            "confusion matrix:\n",
            " [[1814   48]\n",
            " [ 115  332]]\n",
            "Classification_Report:\n",
            "               precision    recall  f1-score   support\n",
            "\n",
            "           0       0.94      0.97      0.96      1862\n",
            "           1       0.87      0.74      0.80       447\n",
            "\n",
            "    accuracy                           0.93      2309\n",
            "   macro avg       0.91      0.86      0.88      2309\n",
            "weighted avg       0.93      0.93      0.93      2309\n",
            "\n"
          ],
          "name": "stdout"
        }
      ]
    },
    {
      "cell_type": "code",
      "metadata": {
        "colab": {
          "base_uri": "https://localhost:8080/"
        },
        "id": "YP6Plxcz2Z0I",
        "outputId": "d7f12053-f880-4f02-ed80-99f7b724f191"
      },
      "source": [
        "#Accuracy Score konsola yazdırıldı\n",
        "print(\"Accuracy_Score:\",accuracy_score(df_test.true,df_test.pred))\n",
        "#F1-Score konsola yazdırıldı.\n",
        "print(\"F1-Score(macro):\",f1_score(df_test.true,df_test.pred,average='macro'))\n",
        "print(\"F1-Score(weighted):\",f1_score(df_test.true,df_test.pred,average='weighted'))\n"
      ],
      "execution_count": null,
      "outputs": [
        {
          "output_type": "stream",
          "text": [
            "Accuracy_Score: 0.9294066695539195\n",
            "F1-Score(macro): 0.8799527423985465\n",
            "F1-Score(weighted): 0.9271708982182851\n"
          ],
          "name": "stdout"
        }
      ]
    },
    {
      "cell_type": "markdown",
      "metadata": {
        "id": "hTOhCtRrA59h"
      },
      "source": [
        "# TEST AŞAMASI"
      ]
    },
    {
      "cell_type": "code",
      "metadata": {
        "colab": {
          "base_uri": "https://localhost:8080/"
        },
        "id": "3uF7UmMUnMAk",
        "outputId": "8121f4c9-e73c-42e4-a80f-a4b968129727"
      },
      "source": [
        "tweet = ['I am not happy']\n",
        "tweet = tokenizer.texts_to_sequences(tweet)\n",
        "tweet"
      ],
      "execution_count": null,
      "outputs": [
        {
          "output_type": "execute_result",
          "data": {
            "text/plain": [
              "[[3, 100, 18, 349]]"
            ]
          },
          "metadata": {
            "tags": []
          },
          "execution_count": 80
        }
      ]
    },
    {
      "cell_type": "code",
      "metadata": {
        "colab": {
          "base_uri": "https://localhost:8080/"
        },
        "id": "tTQdafji15zK",
        "outputId": "b4e572ef-3813-43b5-c7b8-1bc65bec6ea6"
      },
      "source": [
        "tweet = pad_sequences(tweet, maxlen=29, dtype='int32', value=0)\n",
        "print(tweet)"
      ],
      "execution_count": null,
      "outputs": [
        {
          "output_type": "stream",
          "text": [
            "[[  0   0   0   0   0   0   0   0   0   0   0   0   0   0   0   0   0   0\n",
            "    0   0   0   0   0   0   0   3 100  18 349]]\n"
          ],
          "name": "stdout"
        }
      ]
    },
    {
      "cell_type": "code",
      "metadata": {
        "colab": {
          "base_uri": "https://localhost:8080/"
        },
        "id": "lIRFE_E6C7Js",
        "outputId": "36bf8625-47a7-451d-c65c-50d99d1bfed4"
      },
      "source": [
        "#Duygu tahmini\n",
        "sentiment = model.predict(tweet,batch_size=1,verbose = 1)\n",
        "if (np.argmax(sentiment) == 0):\n",
        "    print(\"negative\")\n",
        "elif (np.argmax(sentiment) == 1):\n",
        "    print(\"positive\")\n",
        "else:\n",
        "  print(\"neutral\")"
      ],
      "execution_count": null,
      "outputs": [
        {
          "output_type": "stream",
          "text": [
            "1/1 [==============================] - 0s 24ms/step\n",
            "negative\n"
          ],
          "name": "stdout"
        }
      ]
    },
    {
      "cell_type": "markdown",
      "metadata": {
        "id": "xTgawFroDL5C"
      },
      "source": [
        "# Confuison Matrix Görselleştirme"
      ]
    },
    {
      "cell_type": "code",
      "metadata": {
        "colab": {
          "base_uri": "https://localhost:8080/",
          "height": 333
        },
        "id": "iLihs4GYPPL9",
        "outputId": "556bb322-dfd2-4c63-e700-f590e09a9026"
      },
      "source": [
        "from sklearn.metrics import confusion_matrix\n",
        "import seaborn as sns\n",
        "import matplotlib.pyplot as plt\n",
        "cm = confusion_matrix(df_test.true, df_test.pred)\n",
        "ax = plt.subplot()\n",
        "sns.heatmap(cm, annot=True, ax=ax, cmap=\"Blues\", fmt=\"g\");  \n",
        "plt.rcParams.update({'font.size': 25})\n",
        "label_font = {'size':'18'}  \n",
        "ax.set_xlabel('Predicted labels', fontdict=label_font);\n",
        "ax.set_ylabel('True labels\\n', fontdict=label_font);\n",
        "title_font = {'size':'21'} \n",
        "ax.set_title('Confusion Matrix\\n', fontdict=title_font);\n",
        "ax.tick_params(axis='both', which='major', labelsize=10) \n",
        "ax.xaxis.set_ticklabels(['Negative', 'Positive']);\n",
        "ax.yaxis.set_ticklabels(['Negative', 'Positive']);\n",
        "plt.show()"
      ],
      "execution_count": null,
      "outputs": [
        {
          "output_type": "display_data",
          "data": {
            "image/png": "[encoded data removed]",
            "text/plain": [
              "<Figure size 432x288 with 2 Axes>"
            ]
          },
          "metadata": {
            "tags": [],
            "needs_background": "light"
          }
        }
      ]
    }
  ]
}