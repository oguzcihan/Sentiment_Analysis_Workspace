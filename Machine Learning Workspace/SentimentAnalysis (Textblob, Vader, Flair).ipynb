{
  "nbformat": 4,
  "nbformat_minor": 0,
  "metadata": {
    "colab": {
      "name": "SentimentAnalysis.ipynb",
      "provenance": [],
      "collapsed_sections": [],
      "toc_visible": true
    },
    "kernelspec": {
      "name": "python3",
      "display_name": "Python 3"
    },
    "widgets": {
      "application/vnd.jupyter.widget-state+json": {
        "8f7e135ebccb451d8a35b560ec408239": {
          "model_module": "@jupyter-widgets/controls",
          "model_name": "HBoxModel",
          "state": {
            "_view_name": "HBoxView",
            "_dom_classes": [],
            "_model_name": "HBoxModel",
            "_view_module": "@jupyter-widgets/controls",
            "_model_module_version": "1.5.0",
            "_view_count": null,
            "_view_module_version": "1.5.0",
            "box_style": "",
            "layout": "IPY_MODEL_d2ca524aacc549d2ad1a4475ba8442f4",
            "_model_module": "@jupyter-widgets/controls",
            "children": [
              "IPY_MODEL_7c1d0cb935444ac0bb88ff6b90a59484",
              "IPY_MODEL_a1911a2c8fba4400b4d8d047483537e2"
            ]
          }
        },
        "d2ca524aacc549d2ad1a4475ba8442f4": {
          "model_module": "@jupyter-widgets/base",
          "model_name": "LayoutModel",
          "state": {
            "_view_name": "LayoutView",
            "grid_template_rows": null,
            "right": null,
            "justify_content": null,
            "_view_module": "@jupyter-widgets/base",
            "overflow": null,
            "_model_module_version": "1.2.0",
            "_view_count": null,
            "flex_flow": null,
            "width": null,
            "min_width": null,
            "border": null,
            "align_items": null,
            "bottom": null,
            "_model_module": "@jupyter-widgets/base",
            "top": null,
            "grid_column": null,
            "overflow_y": null,
            "overflow_x": null,
            "grid_auto_flow": null,
            "grid_area": null,
            "grid_template_columns": null,
            "flex": null,
            "_model_name": "LayoutModel",
            "justify_items": null,
            "grid_row": null,
            "max_height": null,
            "align_content": null,
            "visibility": null,
            "align_self": null,
            "height": null,
            "min_height": null,
            "padding": null,
            "grid_auto_rows": null,
            "grid_gap": null,
            "max_width": null,
            "order": null,
            "_view_module_version": "1.2.0",
            "grid_template_areas": null,
            "object_position": null,
            "object_fit": null,
            "grid_auto_columns": null,
            "margin": null,
            "display": null,
            "left": null
          }
        },
        "7c1d0cb935444ac0bb88ff6b90a59484": {
          "model_module": "@jupyter-widgets/controls",
          "model_name": "FloatProgressModel",
          "state": {
            "_view_name": "ProgressView",
            "style": "IPY_MODEL_06bfcb3d5e494f0597655043c879f81f",
            "_dom_classes": [],
            "description": "Downloading: 100%",
            "_model_name": "FloatProgressModel",
            "bar_style": "success",
            "max": 442,
            "_view_module": "@jupyter-widgets/controls",
            "_model_module_version": "1.5.0",
            "value": 442,
            "_view_count": null,
            "_view_module_version": "1.5.0",
            "orientation": "horizontal",
            "min": 0,
            "description_tooltip": null,
            "_model_module": "@jupyter-widgets/controls",
            "layout": "IPY_MODEL_d344ea28e0a34a1ca1a58d7ffda6e95d"
          }
        },
        "a1911a2c8fba4400b4d8d047483537e2": {
          "model_module": "@jupyter-widgets/controls",
          "model_name": "HTMLModel",
          "state": {
            "_view_name": "HTMLView",
            "style": "IPY_MODEL_c1c7f27d8858494698042a03159dc17b",
            "_dom_classes": [],
            "description": "",
            "_model_name": "HTMLModel",
            "placeholder": "​",
            "_view_module": "@jupyter-widgets/controls",
            "_model_module_version": "1.5.0",
            "value": " 442/442 [00:00&lt;00:00, 4.17kB/s]",
            "_view_count": null,
            "_view_module_version": "1.5.0",
            "description_tooltip": null,
            "_model_module": "@jupyter-widgets/controls",
            "layout": "IPY_MODEL_586b7560a09948278c87119c5d634a4a"
          }
        },
        "06bfcb3d5e494f0597655043c879f81f": {
          "model_module": "@jupyter-widgets/controls",
          "model_name": "ProgressStyleModel",
          "state": {
            "_view_name": "StyleView",
            "_model_name": "ProgressStyleModel",
            "description_width": "initial",
            "_view_module": "@jupyter-widgets/base",
            "_model_module_version": "1.5.0",
            "_view_count": null,
            "_view_module_version": "1.2.0",
            "bar_color": null,
            "_model_module": "@jupyter-widgets/controls"
          }
        },
        "d344ea28e0a34a1ca1a58d7ffda6e95d": {
          "model_module": "@jupyter-widgets/base",
          "model_name": "LayoutModel",
          "state": {
            "_view_name": "LayoutView",
            "grid_template_rows": null,
            "right": null,
            "justify_content": null,
            "_view_module": "@jupyter-widgets/base",
            "overflow": null,
            "_model_module_version": "1.2.0",
            "_view_count": null,
            "flex_flow": null,
            "width": null,
            "min_width": null,
            "border": null,
            "align_items": null,
            "bottom": null,
            "_model_module": "@jupyter-widgets/base",
            "top": null,
            "grid_column": null,
            "overflow_y": null,
            "overflow_x": null,
            "grid_auto_flow": null,
            "grid_area": null,
            "grid_template_columns": null,
            "flex": null,
            "_model_name": "LayoutModel",
            "justify_items": null,
            "grid_row": null,
            "max_height": null,
            "align_content": null,
            "visibility": null,
            "align_self": null,
            "height": null,
            "min_height": null,
            "padding": null,
            "grid_auto_rows": null,
            "grid_gap": null,
            "max_width": null,
            "order": null,
            "_view_module_version": "1.2.0",
            "grid_template_areas": null,
            "object_position": null,
            "object_fit": null,
            "grid_auto_columns": null,
            "margin": null,
            "display": null,
            "left": null
          }
        },
        "c1c7f27d8858494698042a03159dc17b": {
          "model_module": "@jupyter-widgets/controls",
          "model_name": "DescriptionStyleModel",
          "state": {
            "_view_name": "StyleView",
            "_model_name": "DescriptionStyleModel",
            "description_width": "",
            "_view_module": "@jupyter-widgets/base",
            "_model_module_version": "1.5.0",
            "_view_count": null,
            "_view_module_version": "1.2.0",
            "_model_module": "@jupyter-widgets/controls"
          }
        },
        "586b7560a09948278c87119c5d634a4a": {
          "model_module": "@jupyter-widgets/base",
          "model_name": "LayoutModel",
          "state": {
            "_view_name": "LayoutView",
            "grid_template_rows": null,
            "right": null,
            "justify_content": null,
            "_view_module": "@jupyter-widgets/base",
            "overflow": null,
            "_model_module_version": "1.2.0",
            "_view_count": null,
            "flex_flow": null,
            "width": null,
            "min_width": null,
            "border": null,
            "align_items": null,
            "bottom": null,
            "_model_module": "@jupyter-widgets/base",
            "top": null,
            "grid_column": null,
            "overflow_y": null,
            "overflow_x": null,
            "grid_auto_flow": null,
            "grid_area": null,
            "grid_template_columns": null,
            "flex": null,
            "_model_name": "LayoutModel",
            "justify_items": null,
            "grid_row": null,
            "max_height": null,
            "align_content": null,
            "visibility": null,
            "align_self": null,
            "height": null,
            "min_height": null,
            "padding": null,
            "grid_auto_rows": null,
            "grid_gap": null,
            "max_width": null,
            "order": null,
            "_view_module_version": "1.2.0",
            "grid_template_areas": null,
            "object_position": null,
            "object_fit": null,
            "grid_auto_columns": null,
            "margin": null,
            "display": null,
            "left": null
          }
        },
        "73ac01b9a61340f1a6ddde176cfdedf5": {
          "model_module": "@jupyter-widgets/controls",
          "model_name": "HBoxModel",
          "state": {
            "_view_name": "HBoxView",
            "_dom_classes": [],
            "_model_name": "HBoxModel",
            "_view_module": "@jupyter-widgets/controls",
            "_model_module_version": "1.5.0",
            "_view_count": null,
            "_view_module_version": "1.5.0",
            "box_style": "",
            "layout": "IPY_MODEL_cb34c7a34e2647b79343de5c8af5d791",
            "_model_module": "@jupyter-widgets/controls",
            "children": [
              "IPY_MODEL_9880ea27d4b041bfa11e07d30cdea97a",
              "IPY_MODEL_dd3744f0da524b599fd620b939843222"
            ]
          }
        },
        "cb34c7a34e2647b79343de5c8af5d791": {
          "model_module": "@jupyter-widgets/base",
          "model_name": "LayoutModel",
          "state": {
            "_view_name": "LayoutView",
            "grid_template_rows": null,
            "right": null,
            "justify_content": null,
            "_view_module": "@jupyter-widgets/base",
            "overflow": null,
            "_model_module_version": "1.2.0",
            "_view_count": null,
            "flex_flow": null,
            "width": null,
            "min_width": null,
            "border": null,
            "align_items": null,
            "bottom": null,
            "_model_module": "@jupyter-widgets/base",
            "top": null,
            "grid_column": null,
            "overflow_y": null,
            "overflow_x": null,
            "grid_auto_flow": null,
            "grid_area": null,
            "grid_template_columns": null,
            "flex": null,
            "_model_name": "LayoutModel",
            "justify_items": null,
            "grid_row": null,
            "max_height": null,
            "align_content": null,
            "visibility": null,
            "align_self": null,
            "height": null,
            "min_height": null,
            "padding": null,
            "grid_auto_rows": null,
            "grid_gap": null,
            "max_width": null,
            "order": null,
            "_view_module_version": "1.2.0",
            "grid_template_areas": null,
            "object_position": null,
            "object_fit": null,
            "grid_auto_columns": null,
            "margin": null,
            "display": null,
            "left": null
          }
        },
        "9880ea27d4b041bfa11e07d30cdea97a": {
          "model_module": "@jupyter-widgets/controls",
          "model_name": "FloatProgressModel",
          "state": {
            "_view_name": "ProgressView",
            "style": "IPY_MODEL_2e6d628477ba4d91b2fc4aea36305325",
            "_dom_classes": [],
            "description": "Downloading: 100%",
            "_model_name": "FloatProgressModel",
            "bar_style": "success",
            "max": 231508,
            "_view_module": "@jupyter-widgets/controls",
            "_model_module_version": "1.5.0",
            "value": 231508,
            "_view_count": null,
            "_view_module_version": "1.5.0",
            "orientation": "horizontal",
            "min": 0,
            "description_tooltip": null,
            "_model_module": "@jupyter-widgets/controls",
            "layout": "IPY_MODEL_7bbc831324d74492be08ad8fbd6ce90e"
          }
        },
        "dd3744f0da524b599fd620b939843222": {
          "model_module": "@jupyter-widgets/controls",
          "model_name": "HTMLModel",
          "state": {
            "_view_name": "HTMLView",
            "style": "IPY_MODEL_dece09743d5147fdba19d9bb2005f57f",
            "_dom_classes": [],
            "description": "",
            "_model_name": "HTMLModel",
            "placeholder": "​",
            "_view_module": "@jupyter-widgets/controls",
            "_model_module_version": "1.5.0",
            "value": " 232k/232k [00:00&lt;00:00, 1.74MB/s]",
            "_view_count": null,
            "_view_module_version": "1.5.0",
            "description_tooltip": null,
            "_model_module": "@jupyter-widgets/controls",
            "layout": "IPY_MODEL_c334e7a0cc9f48aa9c818626afb992b2"
          }
        },
        "2e6d628477ba4d91b2fc4aea36305325": {
          "model_module": "@jupyter-widgets/controls",
          "model_name": "ProgressStyleModel",
          "state": {
            "_view_name": "StyleView",
            "_model_name": "ProgressStyleModel",
            "description_width": "initial",
            "_view_module": "@jupyter-widgets/base",
            "_model_module_version": "1.5.0",
            "_view_count": null,
            "_view_module_version": "1.2.0",
            "bar_color": null,
            "_model_module": "@jupyter-widgets/controls"
          }
        },
        "7bbc831324d74492be08ad8fbd6ce90e": {
          "model_module": "@jupyter-widgets/base",
          "model_name": "LayoutModel",
          "state": {
            "_view_name": "LayoutView",
            "grid_template_rows": null,
            "right": null,
            "justify_content": null,
            "_view_module": "@jupyter-widgets/base",
            "overflow": null,
            "_model_module_version": "1.2.0",
            "_view_count": null,
            "flex_flow": null,
            "width": null,
            "min_width": null,
            "border": null,
            "align_items": null,
            "bottom": null,
            "_model_module": "@jupyter-widgets/base",
            "top": null,
            "grid_column": null,
            "overflow_y": null,
            "overflow_x": null,
            "grid_auto_flow": null,
            "grid_area": null,
            "grid_template_columns": null,
            "flex": null,
            "_model_name": "LayoutModel",
            "justify_items": null,
            "grid_row": null,
            "max_height": null,
            "align_content": null,
            "visibility": null,
            "align_self": null,
            "height": null,
            "min_height": null,
            "padding": null,
            "grid_auto_rows": null,
            "grid_gap": null,
            "max_width": null,
            "order": null,
            "_view_module_version": "1.2.0",
            "grid_template_areas": null,
            "object_position": null,
            "object_fit": null,
            "grid_auto_columns": null,
            "margin": null,
            "display": null,
            "left": null
          }
        },
        "dece09743d5147fdba19d9bb2005f57f": {
          "model_module": "@jupyter-widgets/controls",
          "model_name": "DescriptionStyleModel",
          "state": {
            "_view_name": "StyleView",
            "_model_name": "DescriptionStyleModel",
            "description_width": "",
            "_view_module": "@jupyter-widgets/base",
            "_model_module_version": "1.5.0",
            "_view_count": null,
            "_view_module_version": "1.2.0",
            "_model_module": "@jupyter-widgets/controls"
          }
        },
        "c334e7a0cc9f48aa9c818626afb992b2": {
          "model_module": "@jupyter-widgets/base",
          "model_name": "LayoutModel",
          "state": {
            "_view_name": "LayoutView",
            "grid_template_rows": null,
            "right": null,
            "justify_content": null,
            "_view_module": "@jupyter-widgets/base",
            "overflow": null,
            "_model_module_version": "1.2.0",
            "_view_count": null,
            "flex_flow": null,
            "width": null,
            "min_width": null,
            "border": null,
            "align_items": null,
            "bottom": null,
            "_model_module": "@jupyter-widgets/base",
            "top": null,
            "grid_column": null,
            "overflow_y": null,
            "overflow_x": null,
            "grid_auto_flow": null,
            "grid_area": null,
            "grid_template_columns": null,
            "flex": null,
            "_model_name": "LayoutModel",
            "justify_items": null,
            "grid_row": null,
            "max_height": null,
            "align_content": null,
            "visibility": null,
            "align_self": null,
            "height": null,
            "min_height": null,
            "padding": null,
            "grid_auto_rows": null,
            "grid_gap": null,
            "max_width": null,
            "order": null,
            "_view_module_version": "1.2.0",
            "grid_template_areas": null,
            "object_position": null,
            "object_fit": null,
            "grid_auto_columns": null,
            "margin": null,
            "display": null,
            "left": null
          }
        }
      }
    }
  },
  "cells": [
    {
      "cell_type": "markdown",
      "metadata": {
        "id": "RyNdojS_5NdF"
      },
      "source": [
        "# TEXTBLOB ile yapılan analiz\n",
        "\n"
      ]
    },
    {
      "cell_type": "code",
      "metadata": {
        "colab": {
          "base_uri": "https://localhost:8080/"
        },
        "id": "HhGeRtu8K6KN",
        "outputId": "51f8ded0-5711-4eae-852b-c55732bd6647"
      },
      "source": [
        "import pandas as pd\n",
        "import numpy as np\n",
        "import re\n",
        "import string\n",
        "import nltk\n",
        "from nltk.corpus import stopwords\n",
        "from nltk.tokenize import word_tokenize\n",
        "from sklearn.feature_extraction.text import TfidfVectorizer\n",
        "from sklearn.feature_extraction.text import CountVectorizer\n",
        "from sklearn.model_selection import train_test_split\n",
        "from nltk.stem import PorterStemmer\n",
        "from nltk.stem import WordNetLemmatizer\n",
        "# ML Libraries\n",
        "from sklearn.metrics import accuracy_score\n",
        "from sklearn.naive_bayes import MultinomialNB\n",
        "from sklearn.linear_model import LogisticRegression\n",
        "from sklearn.svm import SVC\n",
        "import matplotlib.pyplot as plt\n",
        "from textblob import TextBlob\n",
        "from wordcloud import WordCloud\n",
        "\n",
        "\n",
        "nltk.download('stopwords')\n",
        "# Global Parameters\n",
        "stop_words = set(stopwords.words('english'))"
      ],
      "execution_count": null,
      "outputs": [
        {
          "output_type": "stream",
          "text": [
            "[nltk_data] Downloading package stopwords to /root/nltk_data...\n",
            "[nltk_data]   Package stopwords is already up-to-date!\n"
          ],
          "name": "stdout"
        }
      ]
    },
    {
      "cell_type": "code",
      "metadata": {
        "id": "3vXTJYjOKuDd"
      },
      "source": [
        "data_source=\"/content/drive/MyDrive/Tweets.csv\"\n",
        "tweets=pd.read_csv(data_source,index_col=['text','airline_sentiment'],usecols=['text','airline_sentiment'])"
      ],
      "execution_count": null,
      "outputs": []
    },
    {
      "cell_type": "code",
      "metadata": {
        "colab": {
          "base_uri": "https://localhost:8080/",
          "height": 235
        },
        "id": "WFA1Oe47LAYE",
        "outputId": "f27224b3-7800-46c1-9d20-8bfa8a97626e"
      },
      "source": [
        "tweets.head()"
      ],
      "execution_count": null,
      "outputs": [
        {
          "output_type": "execute_result",
          "data": {
            "text/html": [
              "<div>\n",
              "<style scoped>\n",
              "    .dataframe tbody tr th:only-of-type {\n",
              "        vertical-align: middle;\n",
              "    }\n",
              "\n",
              "    .dataframe tbody tr th {\n",
              "        vertical-align: top;\n",
              "    }\n",
              "\n",
              "    .dataframe thead th {\n",
              "        text-align: right;\n",
              "    }\n",
              "</style>\n",
              "<table border=\"1\" class=\"dataframe\">\n",
              "  <thead>\n",
              "    <tr style=\"text-align: right;\">\n",
              "      <th></th>\n",
              "      <th></th>\n",
              "    </tr>\n",
              "    <tr>\n",
              "      <th>text</th>\n",
              "      <th>airline_sentiment</th>\n",
              "    </tr>\n",
              "  </thead>\n",
              "  <tbody>\n",
              "    <tr>\n",
              "      <th>@VirginAmerica What @dhepburn said.</th>\n",
              "      <th>neutral</th>\n",
              "    </tr>\n",
              "    <tr>\n",
              "      <th>@VirginAmerica plus you've added commercials to the experience... tacky.</th>\n",
              "      <th>positive</th>\n",
              "    </tr>\n",
              "    <tr>\n",
              "      <th>@VirginAmerica I didn't today... Must mean I need to take another trip!</th>\n",
              "      <th>neutral</th>\n",
              "    </tr>\n",
              "    <tr>\n",
              "      <th>@VirginAmerica it's really aggressive to blast obnoxious \"entertainment\" in your guests' faces &amp;amp; they have little recourse</th>\n",
              "      <th>negative</th>\n",
              "    </tr>\n",
              "    <tr>\n",
              "      <th>@VirginAmerica and it's a really big bad thing about it</th>\n",
              "      <th>negative</th>\n",
              "    </tr>\n",
              "  </tbody>\n",
              "</table>\n",
              "</div>"
            ],
            "text/plain": [
              "Empty DataFrame\n",
              "Columns: []\n",
              "Index: [(@VirginAmerica What @dhepburn said., neutral), (@VirginAmerica plus you've added commercials to the experience... tacky., positive), (@VirginAmerica I didn't today... Must mean I need to take another trip!, neutral), (@VirginAmerica it's really aggressive to blast obnoxious \"entertainment\" in your guests' faces &amp; they have little recourse, negative), (@VirginAmerica and it's a really big bad thing about it, negative)]"
            ]
          },
          "metadata": {
            "tags": []
          },
          "execution_count": 39
        }
      ]
    },
    {
      "cell_type": "code",
      "metadata": {
        "id": "6KWpcsuxL8sc"
      },
      "source": [
        "df=pd.DataFrame(tweets)\n",
        "df.to_csv(r'/content/TweetsText.csv')"
      ],
      "execution_count": null,
      "outputs": []
    },
    {
      "cell_type": "code",
      "metadata": {
        "id": "rxJ-wOMYMMhE"
      },
      "source": [
        "def load_dataset(filename, cols):\n",
        "  dataset=pd.read_csv(filename,encoding='UTF-8')\n",
        "  dataset.columns=cols\n",
        "  return dataset"
      ],
      "execution_count": null,
      "outputs": []
    },
    {
      "cell_type": "code",
      "metadata": {
        "id": "UZROccHtN0Q6"
      },
      "source": [
        "dataset = load_dataset(\"/content/TweetsText.csv\", ['text','airline_sentiment'])"
      ],
      "execution_count": null,
      "outputs": []
    },
    {
      "cell_type": "code",
      "metadata": {
        "id": "klA_Qo5uN4ei",
        "colab": {
          "base_uri": "https://localhost:8080/",
          "height": 204
        },
        "outputId": "1f138f1f-b54f-4516-dae6-54d08e57cecd"
      },
      "source": [
        "dataset.head()"
      ],
      "execution_count": null,
      "outputs": [
        {
          "output_type": "execute_result",
          "data": {
            "text/html": [
              "<div>\n",
              "<style scoped>\n",
              "    .dataframe tbody tr th:only-of-type {\n",
              "        vertical-align: middle;\n",
              "    }\n",
              "\n",
              "    .dataframe tbody tr th {\n",
              "        vertical-align: top;\n",
              "    }\n",
              "\n",
              "    .dataframe thead th {\n",
              "        text-align: right;\n",
              "    }\n",
              "</style>\n",
              "<table border=\"1\" class=\"dataframe\">\n",
              "  <thead>\n",
              "    <tr style=\"text-align: right;\">\n",
              "      <th></th>\n",
              "      <th>text</th>\n",
              "      <th>airline_sentiment</th>\n",
              "    </tr>\n",
              "  </thead>\n",
              "  <tbody>\n",
              "    <tr>\n",
              "      <th>0</th>\n",
              "      <td>@VirginAmerica What @dhepburn said.</td>\n",
              "      <td>neutral</td>\n",
              "    </tr>\n",
              "    <tr>\n",
              "      <th>1</th>\n",
              "      <td>@VirginAmerica plus you've added commercials t...</td>\n",
              "      <td>positive</td>\n",
              "    </tr>\n",
              "    <tr>\n",
              "      <th>2</th>\n",
              "      <td>@VirginAmerica I didn't today... Must mean I n...</td>\n",
              "      <td>neutral</td>\n",
              "    </tr>\n",
              "    <tr>\n",
              "      <th>3</th>\n",
              "      <td>@VirginAmerica it's really aggressive to blast...</td>\n",
              "      <td>negative</td>\n",
              "    </tr>\n",
              "    <tr>\n",
              "      <th>4</th>\n",
              "      <td>@VirginAmerica and it's a really big bad thing...</td>\n",
              "      <td>negative</td>\n",
              "    </tr>\n",
              "  </tbody>\n",
              "</table>\n",
              "</div>"
            ],
            "text/plain": [
              "                                                text airline_sentiment\n",
              "0                @VirginAmerica What @dhepburn said.           neutral\n",
              "1  @VirginAmerica plus you've added commercials t...          positive\n",
              "2  @VirginAmerica I didn't today... Must mean I n...           neutral\n",
              "3  @VirginAmerica it's really aggressive to blast...          negative\n",
              "4  @VirginAmerica and it's a really big bad thing...          negative"
            ]
          },
          "metadata": {
            "tags": []
          },
          "execution_count": 59
        }
      ]
    },
    {
      "cell_type": "code",
      "metadata": {
        "id": "dCE1CAJVN_Cr"
      },
      "source": [
        "processed_features = []\n",
        "def processed_feature(tweet):\n",
        "  tweet.lower()\n",
        "  tweet = re.sub(r\"http\\S+|www\\S+|https\\S+\", '', tweet, flags=re.MULTILINE)\n",
        "  # Remove user @ references and '#' from tweet\n",
        "  tweet = re.sub(r'\\@\\w+|\\#','', tweet)\n",
        "  # Remove punctuations\n",
        "  tweet = tweet.translate(str.maketrans('', '', string.punctuation))\n",
        "  # Remove stopwords\n",
        "  tweet_tokens = word_tokenize(tweet)\n",
        "  filtered_words = [w for w in tweet_tokens if not w in stop_words]\n",
        "\n",
        "  tweet = tweet.lower()\n",
        "  processed_features.append(tweet)\n",
        "  \n",
        "  return \" \".join(filtered_words)\n"
      ],
      "execution_count": null,
      "outputs": []
    },
    {
      "cell_type": "code",
      "metadata": {
        "colab": {
          "base_uri": "https://localhost:8080/"
        },
        "id": "4j2nKIB5OB_S",
        "outputId": "d135ad45-26a2-415c-a251-b1fb910fe5fd"
      },
      "source": [
        "nltk.download('punkt')"
      ],
      "execution_count": null,
      "outputs": [
        {
          "output_type": "stream",
          "text": [
            "[nltk_data] Downloading package punkt to /root/nltk_data...\n",
            "[nltk_data]   Package punkt is already up-to-date!\n"
          ],
          "name": "stdout"
        },
        {
          "output_type": "execute_result",
          "data": {
            "text/plain": [
              "True"
            ]
          },
          "metadata": {
            "tags": []
          },
          "execution_count": 61
        }
      ]
    },
    {
      "cell_type": "code",
      "metadata": {
        "id": "aIifjZB2OMVq"
      },
      "source": [
        "dataset.text=dataset['text'].apply(processed_feature)"
      ],
      "execution_count": null,
      "outputs": []
    },
    {
      "cell_type": "code",
      "metadata": {
        "colab": {
          "base_uri": "https://localhost:8080/",
          "height": 204
        },
        "id": "VBnReOownqEH",
        "outputId": "43658da7-3776-4bae-8936-6c08e916a920"
      },
      "source": [
        "dataset.head()"
      ],
      "execution_count": null,
      "outputs": [
        {
          "output_type": "execute_result",
          "data": {
            "text/html": [
              "<div>\n",
              "<style scoped>\n",
              "    .dataframe tbody tr th:only-of-type {\n",
              "        vertical-align: middle;\n",
              "    }\n",
              "\n",
              "    .dataframe tbody tr th {\n",
              "        vertical-align: top;\n",
              "    }\n",
              "\n",
              "    .dataframe thead th {\n",
              "        text-align: right;\n",
              "    }\n",
              "</style>\n",
              "<table border=\"1\" class=\"dataframe\">\n",
              "  <thead>\n",
              "    <tr style=\"text-align: right;\">\n",
              "      <th></th>\n",
              "      <th>text</th>\n",
              "      <th>airline_sentiment</th>\n",
              "    </tr>\n",
              "  </thead>\n",
              "  <tbody>\n",
              "    <tr>\n",
              "      <th>0</th>\n",
              "      <td>What said</td>\n",
              "      <td>neutral</td>\n",
              "    </tr>\n",
              "    <tr>\n",
              "      <th>1</th>\n",
              "      <td>plus youve added commercials experience tacky</td>\n",
              "      <td>positive</td>\n",
              "    </tr>\n",
              "    <tr>\n",
              "      <th>2</th>\n",
              "      <td>I didnt today Must mean I need take another trip</td>\n",
              "      <td>neutral</td>\n",
              "    </tr>\n",
              "    <tr>\n",
              "      <th>3</th>\n",
              "      <td>really aggressive blast obnoxious entertainmen...</td>\n",
              "      <td>negative</td>\n",
              "    </tr>\n",
              "    <tr>\n",
              "      <th>4</th>\n",
              "      <td>really big bad thing</td>\n",
              "      <td>negative</td>\n",
              "    </tr>\n",
              "  </tbody>\n",
              "</table>\n",
              "</div>"
            ],
            "text/plain": [
              "                                                text airline_sentiment\n",
              "0                                          What said           neutral\n",
              "1      plus youve added commercials experience tacky          positive\n",
              "2   I didnt today Must mean I need take another trip           neutral\n",
              "3  really aggressive blast obnoxious entertainmen...          negative\n",
              "4                               really big bad thing          negative"
            ]
          },
          "metadata": {
            "tags": []
          },
          "execution_count": 63
        }
      ]
    },
    {
      "cell_type": "code",
      "metadata": {
        "id": "zaDMQ7zSOgFc"
      },
      "source": [
        "def getSubjectivity(text):\n",
        "  return TextBlob(text).sentiment.subjectivity\n",
        "\n",
        "def getPolarity(text):\n",
        "  return TextBlob(text).sentiment.polarity\n"
      ],
      "execution_count": null,
      "outputs": []
    },
    {
      "cell_type": "code",
      "metadata": {
        "id": "YsGbSegYXS9n"
      },
      "source": [
        "dataset['Subjectivity']=dataset['text'].apply(getSubjectivity)\n",
        "dataset['Polarity']=dataset['text'].apply(getPolarity)"
      ],
      "execution_count": null,
      "outputs": []
    },
    {
      "cell_type": "code",
      "metadata": {
        "colab": {
          "base_uri": "https://localhost:8080/",
          "height": 204
        },
        "id": "vCBIBx12OwIi",
        "outputId": "b9aadae2-72a7-4f2d-dca9-85041f2298ba"
      },
      "source": [
        "dataset.head()"
      ],
      "execution_count": null,
      "outputs": [
        {
          "output_type": "execute_result",
          "data": {
            "text/html": [
              "<div>\n",
              "<style scoped>\n",
              "    .dataframe tbody tr th:only-of-type {\n",
              "        vertical-align: middle;\n",
              "    }\n",
              "\n",
              "    .dataframe tbody tr th {\n",
              "        vertical-align: top;\n",
              "    }\n",
              "\n",
              "    .dataframe thead th {\n",
              "        text-align: right;\n",
              "    }\n",
              "</style>\n",
              "<table border=\"1\" class=\"dataframe\">\n",
              "  <thead>\n",
              "    <tr style=\"text-align: right;\">\n",
              "      <th></th>\n",
              "      <th>text</th>\n",
              "      <th>airline_sentiment</th>\n",
              "      <th>Subjectivity</th>\n",
              "      <th>Polarity</th>\n",
              "    </tr>\n",
              "  </thead>\n",
              "  <tbody>\n",
              "    <tr>\n",
              "      <th>0</th>\n",
              "      <td>What said</td>\n",
              "      <td>neutral</td>\n",
              "      <td>0.000000</td>\n",
              "      <td>0.00000</td>\n",
              "    </tr>\n",
              "    <tr>\n",
              "      <th>1</th>\n",
              "      <td>plus youve added commercials experience tacky</td>\n",
              "      <td>positive</td>\n",
              "      <td>0.000000</td>\n",
              "      <td>0.00000</td>\n",
              "    </tr>\n",
              "    <tr>\n",
              "      <th>2</th>\n",
              "      <td>I didnt today Must mean I need take another trip</td>\n",
              "      <td>neutral</td>\n",
              "      <td>0.687500</td>\n",
              "      <td>-0.31250</td>\n",
              "    </tr>\n",
              "    <tr>\n",
              "      <th>3</th>\n",
              "      <td>really aggressive blast obnoxious entertainmen...</td>\n",
              "      <td>negative</td>\n",
              "      <td>0.350000</td>\n",
              "      <td>0.00625</td>\n",
              "    </tr>\n",
              "    <tr>\n",
              "      <th>4</th>\n",
              "      <td>really big bad thing</td>\n",
              "      <td>negative</td>\n",
              "      <td>0.383333</td>\n",
              "      <td>-0.35000</td>\n",
              "    </tr>\n",
              "  </tbody>\n",
              "</table>\n",
              "</div>"
            ],
            "text/plain": [
              "                                                text  ... Polarity\n",
              "0                                          What said  ...  0.00000\n",
              "1      plus youve added commercials experience tacky  ...  0.00000\n",
              "2   I didnt today Must mean I need take another trip  ... -0.31250\n",
              "3  really aggressive blast obnoxious entertainmen...  ...  0.00625\n",
              "4                               really big bad thing  ... -0.35000\n",
              "\n",
              "[5 rows x 4 columns]"
            ]
          },
          "metadata": {
            "tags": []
          },
          "execution_count": 12
        }
      ]
    },
    {
      "cell_type": "code",
      "metadata": {
        "colab": {
          "base_uri": "https://localhost:8080/",
          "height": 249
        },
        "id": "0ajgjlwQPPNK",
        "outputId": "52cc21d6-1383-4d16-be98-34e298aa398a"
      },
      "source": [
        "allWords=''.join([twts for twts in dataset['text']])\n",
        "wordCloud=WordCloud(width=500,height=300,random_state=21,max_font_size=119).generate(allWords)\n",
        "\n",
        "plt.imshow(wordCloud,interpolation='bilinear')\n",
        "plt.axis('off')\n",
        "plt.show"
      ],
      "execution_count": null,
      "outputs": [
        {
          "output_type": "execute_result",
          "data": {
            "text/plain": [
              "<function matplotlib.pyplot.show>"
            ]
          },
          "metadata": {
            "tags": []
          },
          "execution_count": 64
        },
        {
          "output_type": "display_data",
          "data": {
            "image/png": "[encoded data removed]",
            "text/plain": [
              "<Figure size 432x288 with 1 Axes>"
            ]
          },
          "metadata": {
            "tags": [],
            "needs_background": "light"
          }
        }
      ]
    },
    {
      "cell_type": "code",
      "metadata": {
        "id": "1VpBGdUHPSay"
      },
      "source": [
        "def getAnalysis(score):\n",
        "  if score <0:\n",
        "    return 'Negative'\n",
        "  elif score==0:\n",
        "    return 'Neutral'\n",
        "  else:\n",
        "    return 'Positive'"
      ],
      "execution_count": null,
      "outputs": []
    },
    {
      "cell_type": "code",
      "metadata": {
        "id": "JL0mfXi8SciZ"
      },
      "source": [
        "dataset['duygu_tespiti_1']=dataset['Polarity'].apply(getAnalysis)"
      ],
      "execution_count": null,
      "outputs": []
    },
    {
      "cell_type": "code",
      "metadata": {
        "colab": {
          "base_uri": "https://localhost:8080/",
          "height": 204
        },
        "id": "HM43zrZUPUY4",
        "outputId": "48cce8c6-d4ee-40a7-c15a-9b43b235d44b"
      },
      "source": [
        "dataset.head()"
      ],
      "execution_count": null,
      "outputs": [
        {
          "output_type": "execute_result",
          "data": {
            "text/html": [
              "<div>\n",
              "<style scoped>\n",
              "    .dataframe tbody tr th:only-of-type {\n",
              "        vertical-align: middle;\n",
              "    }\n",
              "\n",
              "    .dataframe tbody tr th {\n",
              "        vertical-align: top;\n",
              "    }\n",
              "\n",
              "    .dataframe thead th {\n",
              "        text-align: right;\n",
              "    }\n",
              "</style>\n",
              "<table border=\"1\" class=\"dataframe\">\n",
              "  <thead>\n",
              "    <tr style=\"text-align: right;\">\n",
              "      <th></th>\n",
              "      <th>text</th>\n",
              "      <th>airline_sentiment</th>\n",
              "      <th>Subjectivity</th>\n",
              "      <th>Polarity</th>\n",
              "      <th>duygu_tespiti_1</th>\n",
              "    </tr>\n",
              "  </thead>\n",
              "  <tbody>\n",
              "    <tr>\n",
              "      <th>0</th>\n",
              "      <td>What said</td>\n",
              "      <td>neutral</td>\n",
              "      <td>0.000000</td>\n",
              "      <td>0.00000</td>\n",
              "      <td>Neutral</td>\n",
              "    </tr>\n",
              "    <tr>\n",
              "      <th>1</th>\n",
              "      <td>plus youve added commercials experience tacky</td>\n",
              "      <td>positive</td>\n",
              "      <td>0.000000</td>\n",
              "      <td>0.00000</td>\n",
              "      <td>Neutral</td>\n",
              "    </tr>\n",
              "    <tr>\n",
              "      <th>2</th>\n",
              "      <td>I didnt today Must mean I need take another trip</td>\n",
              "      <td>neutral</td>\n",
              "      <td>0.687500</td>\n",
              "      <td>-0.31250</td>\n",
              "      <td>Negative</td>\n",
              "    </tr>\n",
              "    <tr>\n",
              "      <th>3</th>\n",
              "      <td>really aggressive blast obnoxious entertainmen...</td>\n",
              "      <td>negative</td>\n",
              "      <td>0.350000</td>\n",
              "      <td>0.00625</td>\n",
              "      <td>Positive</td>\n",
              "    </tr>\n",
              "    <tr>\n",
              "      <th>4</th>\n",
              "      <td>really big bad thing</td>\n",
              "      <td>negative</td>\n",
              "      <td>0.383333</td>\n",
              "      <td>-0.35000</td>\n",
              "      <td>Negative</td>\n",
              "    </tr>\n",
              "  </tbody>\n",
              "</table>\n",
              "</div>"
            ],
            "text/plain": [
              "                                                text  ... duygu_tespiti_1\n",
              "0                                          What said  ...         Neutral\n",
              "1      plus youve added commercials experience tacky  ...         Neutral\n",
              "2   I didnt today Must mean I need take another trip  ...        Negative\n",
              "3  really aggressive blast obnoxious entertainmen...  ...        Positive\n",
              "4                               really big bad thing  ...        Negative\n",
              "\n",
              "[5 rows x 5 columns]"
            ]
          },
          "metadata": {
            "tags": []
          },
          "execution_count": 15
        }
      ]
    },
    {
      "cell_type": "code",
      "metadata": {
        "colab": {
          "base_uri": "https://localhost:8080/",
          "height": 330
        },
        "id": "8slxhIdLPaES",
        "outputId": "fb43cfbf-e13b-48d4-df23-e7e1c6b8f259"
      },
      "source": [
        "dataset['duygu_tespiti_1'].value_counts()\n",
        "plt.title('Sentiment Analysis')\n",
        "plt.xlabel('Sentiment')\n",
        "plt.ylabel('Counts')\n",
        "dataset['duygu_tespiti_1'].value_counts().plot(kind='bar')\n",
        "plt.show()"
      ],
      "execution_count": null,
      "outputs": [
        {
          "output_type": "display_data",
          "data": {
            "image/png": "[encoded data removed]",
            "text/plain": [
              "<Figure size 432x288 with 1 Axes>"
            ]
          },
          "metadata": {
            "tags": [],
            "needs_background": "light"
          }
        }
      ]
    },
    {
      "cell_type": "code",
      "metadata": {
        "id": "85clNNkWA-kQ"
      },
      "source": [
        "labels = dataset.iloc[:, 4].values"
      ],
      "execution_count": null,
      "outputs": []
    },
    {
      "cell_type": "code",
      "metadata": {
        "id": "5DqgZDCz7ZAs"
      },
      "source": [
        "vectorizer=TfidfVectorizer(max_features=2500,min_df=7,max_df=0.8,stop_words=stopwords.words('english'))\n",
        "processed_features=vectorizer.fit_transform(processed_features).toarray()"
      ],
      "execution_count": null,
      "outputs": []
    },
    {
      "cell_type": "code",
      "metadata": {
        "id": "uKKdalADBzVR"
      },
      "source": [
        "X_train, X_test, y_train, y_test = train_test_split(processed_features, labels, test_size=0.2, random_state=0)"
      ],
      "execution_count": null,
      "outputs": []
    },
    {
      "cell_type": "code",
      "metadata": {
        "id": "5p4xvZu_oJKY"
      },
      "source": [
        "from sklearn.ensemble import RandomForestClassifier"
      ],
      "execution_count": null,
      "outputs": []
    },
    {
      "cell_type": "code",
      "metadata": {
        "colab": {
          "base_uri": "https://localhost:8080/"
        },
        "id": "dn4utpnxB3H6",
        "outputId": "6a5f1078-b5a6-49d0-d793-c883178ca6d7"
      },
      "source": [
        "text_classifier = RandomForestClassifier(n_estimators=200, random_state=0)\n",
        "text_classifier.fit(X_train, y_train)"
      ],
      "execution_count": null,
      "outputs": [
        {
          "output_type": "execute_result",
          "data": {
            "text/plain": [
              "RandomForestClassifier(bootstrap=True, ccp_alpha=0.0, class_weight=None,\n",
              "                       criterion='gini', max_depth=None, max_features='auto',\n",
              "                       max_leaf_nodes=None, max_samples=None,\n",
              "                       min_impurity_decrease=0.0, min_impurity_split=None,\n",
              "                       min_samples_leaf=1, min_samples_split=2,\n",
              "                       min_weight_fraction_leaf=0.0, n_estimators=200,\n",
              "                       n_jobs=None, oob_score=False, random_state=0, verbose=0,\n",
              "                       warm_start=False)"
            ]
          },
          "metadata": {
            "tags": []
          },
          "execution_count": 21
        }
      ]
    },
    {
      "cell_type": "code",
      "metadata": {
        "id": "dSlJ_v34COc_"
      },
      "source": [
        "predictions = text_classifier.predict(X_test)"
      ],
      "execution_count": null,
      "outputs": []
    },
    {
      "cell_type": "code",
      "metadata": {
        "colab": {
          "base_uri": "https://localhost:8080/"
        },
        "id": "8LdaPDytCQYF",
        "outputId": "e17cceb1-f0f3-4ac3-ad65-dc47b787b5ae"
      },
      "source": [
        "from sklearn.metrics import classification_report, confusion_matrix, accuracy_score,f1_score\n",
        "\n",
        "print('Confusion Matrix: \\n',confusion_matrix(y_test,predictions))\n",
        "print('Classifiaciton: \\n',classification_report(y_test,predictions))\n",
        "print('Accuracy Score: \\n',accuracy_score(y_test, predictions))\n",
        "print('F1-Score (macro): \\n',f1_score(y_test,predictions,average='macro'))\n",
        "print('F1-Score (weighted): \\n',f1_score(y_test,predictions,average='weighted'))"
      ],
      "execution_count": null,
      "outputs": [
        {
          "output_type": "stream",
          "text": [
            "Confusion Matrix: \n",
            " [[ 540   61   80]\n",
            " [   8 1191   17]\n",
            " [  49   72  910]]\n",
            "Classifiaciton: \n",
            "               precision    recall  f1-score   support\n",
            "\n",
            "    Negative       0.90      0.79      0.85       681\n",
            "     Neutral       0.90      0.98      0.94      1216\n",
            "    Positive       0.90      0.88      0.89      1031\n",
            "\n",
            "    accuracy                           0.90      2928\n",
            "   macro avg       0.90      0.89      0.89      2928\n",
            "weighted avg       0.90      0.90      0.90      2928\n",
            "\n",
            "Accuracy Score: \n",
            " 0.9019808743169399\n",
            "F1-Score (macro): \n",
            " 0.8919660276055453\n",
            "F1-Score (weighted): \n",
            " 0.9004673502325408\n"
          ],
          "name": "stdout"
        }
      ]
    },
    {
      "cell_type": "markdown",
      "metadata": {
        "id": "muBzpe2hQhr6"
      },
      "source": [
        "# VADER ile yapılan analiz"
      ]
    },
    {
      "cell_type": "code",
      "metadata": {
        "colab": {
          "base_uri": "https://localhost:8080/"
        },
        "id": "y4HsBfTvQl0p",
        "outputId": "080fbbc1-6827-4853-832f-ee0adbc8d546"
      },
      "source": [
        "nltk.download('vader_lexicon')"
      ],
      "execution_count": null,
      "outputs": [
        {
          "output_type": "stream",
          "text": [
            "[nltk_data] Downloading package vader_lexicon to /root/nltk_data...\n"
          ],
          "name": "stdout"
        },
        {
          "output_type": "execute_result",
          "data": {
            "text/plain": [
              "True"
            ]
          },
          "metadata": {
            "tags": []
          },
          "execution_count": 24
        }
      ]
    },
    {
      "cell_type": "code",
      "metadata": {
        "id": "Wz0c4r1xQq1J",
        "colab": {
          "base_uri": "https://localhost:8080/"
        },
        "outputId": "adcb6630-fb4d-4226-b384-032de2fa7366"
      },
      "source": [
        "from nltk.sentiment.vader import SentimentIntensityAnalyzer"
      ],
      "execution_count": null,
      "outputs": [
        {
          "output_type": "stream",
          "text": [
            "/usr/local/lib/python3.6/dist-packages/nltk/twitter/__init__.py:20: UserWarning: The twython library has not been installed. Some functionality from the twitter package will not be available.\n",
            "  warnings.warn(\"The twython library has not been installed. \"\n"
          ],
          "name": "stderr"
        }
      ]
    },
    {
      "cell_type": "code",
      "metadata": {
        "id": "SYt1USTKTXEg"
      },
      "source": [
        "sid=SentimentIntensityAnalyzer()"
      ],
      "execution_count": null,
      "outputs": []
    },
    {
      "cell_type": "code",
      "metadata": {
        "colab": {
          "base_uri": "https://localhost:8080/"
        },
        "id": "THYdPsefQ6FZ",
        "outputId": "a94f78be-6c7a-40f9-87d6-fdb4db0ab003"
      },
      "source": [
        "dataset['airline_sentiment'].value_counts()"
      ],
      "execution_count": null,
      "outputs": [
        {
          "output_type": "execute_result",
          "data": {
            "text/plain": [
              "negative    9178\n",
              "neutral     3099\n",
              "positive    2363\n",
              "Name: airline_sentiment, dtype: int64"
            ]
          },
          "metadata": {
            "tags": []
          },
          "execution_count": 27
        }
      ]
    },
    {
      "cell_type": "code",
      "metadata": {
        "id": "ca3Yaiz4RGWb"
      },
      "source": [
        "dataset.dropna(inplace=True)"
      ],
      "execution_count": null,
      "outputs": []
    },
    {
      "cell_type": "code",
      "metadata": {
        "id": "_mToTPn6Hy8g"
      },
      "source": [
        "processed_features_iki = []\n",
        "def processed_feature_iki(tweet):\n",
        " \n",
        "  processed_features_iki.append(tweet)\n",
        "  \n",
        "  return tweet"
      ],
      "execution_count": null,
      "outputs": []
    },
    {
      "cell_type": "code",
      "metadata": {
        "id": "Shh9O9taaycV"
      },
      "source": [
        "dataset.text=dataset['text'].apply(processed_feature_iki)"
      ],
      "execution_count": null,
      "outputs": []
    },
    {
      "cell_type": "code",
      "metadata": {
        "colab": {
          "base_uri": "https://localhost:8080/"
        },
        "id": "IqXxWpgURqLR",
        "outputId": "817e1f86-1005-4d8d-8104-0693d2e7d929"
      },
      "source": [
        "sid.polarity_scores(dataset.iloc[3]['text'])"
      ],
      "execution_count": null,
      "outputs": [
        {
          "output_type": "execute_result",
          "data": {
            "text/plain": [
              "{'compound': -0.3306, 'neg': 0.345, 'neu': 0.468, 'pos': 0.187}"
            ]
          },
          "metadata": {
            "tags": []
          },
          "execution_count": 31
        }
      ]
    },
    {
      "cell_type": "code",
      "metadata": {
        "id": "_1xXBeIgTmx7"
      },
      "source": [
        "dataset['scores']=dataset['text'].apply(lambda text:sid.polarity_scores(text))"
      ],
      "execution_count": null,
      "outputs": []
    },
    {
      "cell_type": "code",
      "metadata": {
        "colab": {
          "base_uri": "https://localhost:8080/",
          "height": 204
        },
        "id": "FZ8PgDFoT50n",
        "outputId": "6eedef6c-7b23-4279-a7cf-a21a557a400c"
      },
      "source": [
        "dataset.head()"
      ],
      "execution_count": null,
      "outputs": [
        {
          "output_type": "execute_result",
          "data": {
            "text/html": [
              "<div>\n",
              "<style scoped>\n",
              "    .dataframe tbody tr th:only-of-type {\n",
              "        vertical-align: middle;\n",
              "    }\n",
              "\n",
              "    .dataframe tbody tr th {\n",
              "        vertical-align: top;\n",
              "    }\n",
              "\n",
              "    .dataframe thead th {\n",
              "        text-align: right;\n",
              "    }\n",
              "</style>\n",
              "<table border=\"1\" class=\"dataframe\">\n",
              "  <thead>\n",
              "    <tr style=\"text-align: right;\">\n",
              "      <th></th>\n",
              "      <th>text</th>\n",
              "      <th>airline_sentiment</th>\n",
              "      <th>Subjectivity</th>\n",
              "      <th>Polarity</th>\n",
              "      <th>duygu_tespiti_1</th>\n",
              "      <th>scores</th>\n",
              "    </tr>\n",
              "  </thead>\n",
              "  <tbody>\n",
              "    <tr>\n",
              "      <th>0</th>\n",
              "      <td>What said</td>\n",
              "      <td>neutral</td>\n",
              "      <td>0.000000</td>\n",
              "      <td>0.00000</td>\n",
              "      <td>Neutral</td>\n",
              "      <td>{'neg': 0.0, 'neu': 1.0, 'pos': 0.0, 'compound...</td>\n",
              "    </tr>\n",
              "    <tr>\n",
              "      <th>1</th>\n",
              "      <td>plus youve added commercials experience tacky</td>\n",
              "      <td>positive</td>\n",
              "      <td>0.000000</td>\n",
              "      <td>0.00000</td>\n",
              "      <td>Neutral</td>\n",
              "      <td>{'neg': 0.0, 'neu': 1.0, 'pos': 0.0, 'compound...</td>\n",
              "    </tr>\n",
              "    <tr>\n",
              "      <th>2</th>\n",
              "      <td>I didnt today Must mean I need take another trip</td>\n",
              "      <td>neutral</td>\n",
              "      <td>0.687500</td>\n",
              "      <td>-0.31250</td>\n",
              "      <td>Negative</td>\n",
              "      <td>{'neg': 0.0, 'neu': 1.0, 'pos': 0.0, 'compound...</td>\n",
              "    </tr>\n",
              "    <tr>\n",
              "      <th>3</th>\n",
              "      <td>really aggressive blast obnoxious entertainmen...</td>\n",
              "      <td>negative</td>\n",
              "      <td>0.350000</td>\n",
              "      <td>0.00625</td>\n",
              "      <td>Positive</td>\n",
              "      <td>{'neg': 0.345, 'neu': 0.468, 'pos': 0.187, 'co...</td>\n",
              "    </tr>\n",
              "    <tr>\n",
              "      <th>4</th>\n",
              "      <td>really big bad thing</td>\n",
              "      <td>negative</td>\n",
              "      <td>0.383333</td>\n",
              "      <td>-0.35000</td>\n",
              "      <td>Negative</td>\n",
              "      <td>{'neg': 0.557, 'neu': 0.443, 'pos': 0.0, 'comp...</td>\n",
              "    </tr>\n",
              "  </tbody>\n",
              "</table>\n",
              "</div>"
            ],
            "text/plain": [
              "                                                text  ...                                             scores\n",
              "0                                          What said  ...  {'neg': 0.0, 'neu': 1.0, 'pos': 0.0, 'compound...\n",
              "1      plus youve added commercials experience tacky  ...  {'neg': 0.0, 'neu': 1.0, 'pos': 0.0, 'compound...\n",
              "2   I didnt today Must mean I need take another trip  ...  {'neg': 0.0, 'neu': 1.0, 'pos': 0.0, 'compound...\n",
              "3  really aggressive blast obnoxious entertainmen...  ...  {'neg': 0.345, 'neu': 0.468, 'pos': 0.187, 'co...\n",
              "4                               really big bad thing  ...  {'neg': 0.557, 'neu': 0.443, 'pos': 0.0, 'comp...\n",
              "\n",
              "[5 rows x 6 columns]"
            ]
          },
          "metadata": {
            "tags": []
          },
          "execution_count": 33
        }
      ]
    },
    {
      "cell_type": "code",
      "metadata": {
        "id": "0etiAXWsT9SH"
      },
      "source": [
        "dataset['compound']=dataset['scores'].apply(lambda result:result['compound'])"
      ],
      "execution_count": null,
      "outputs": []
    },
    {
      "cell_type": "code",
      "metadata": {
        "colab": {
          "base_uri": "https://localhost:8080/",
          "height": 289
        },
        "id": "kRG0YhoXUKgX",
        "outputId": "43e28997-45ee-498c-e43f-ccd8ecb84ae2"
      },
      "source": [
        "dataset.head()"
      ],
      "execution_count": null,
      "outputs": [
        {
          "output_type": "execute_result",
          "data": {
            "text/html": [
              "<div>\n",
              "<style scoped>\n",
              "    .dataframe tbody tr th:only-of-type {\n",
              "        vertical-align: middle;\n",
              "    }\n",
              "\n",
              "    .dataframe tbody tr th {\n",
              "        vertical-align: top;\n",
              "    }\n",
              "\n",
              "    .dataframe thead th {\n",
              "        text-align: right;\n",
              "    }\n",
              "</style>\n",
              "<table border=\"1\" class=\"dataframe\">\n",
              "  <thead>\n",
              "    <tr style=\"text-align: right;\">\n",
              "      <th></th>\n",
              "      <th>text</th>\n",
              "      <th>airline_sentiment</th>\n",
              "      <th>Subjectivity</th>\n",
              "      <th>Polarity</th>\n",
              "      <th>duygu_tespiti_1</th>\n",
              "      <th>scores</th>\n",
              "      <th>compound</th>\n",
              "    </tr>\n",
              "  </thead>\n",
              "  <tbody>\n",
              "    <tr>\n",
              "      <th>0</th>\n",
              "      <td>What said</td>\n",
              "      <td>neutral</td>\n",
              "      <td>0.000000</td>\n",
              "      <td>0.00000</td>\n",
              "      <td>Neutral</td>\n",
              "      <td>{'neg': 0.0, 'neu': 1.0, 'pos': 0.0, 'compound...</td>\n",
              "      <td>0.0000</td>\n",
              "    </tr>\n",
              "    <tr>\n",
              "      <th>1</th>\n",
              "      <td>plus youve added commercials experience tacky</td>\n",
              "      <td>positive</td>\n",
              "      <td>0.000000</td>\n",
              "      <td>0.00000</td>\n",
              "      <td>Neutral</td>\n",
              "      <td>{'neg': 0.0, 'neu': 1.0, 'pos': 0.0, 'compound...</td>\n",
              "      <td>0.0000</td>\n",
              "    </tr>\n",
              "    <tr>\n",
              "      <th>2</th>\n",
              "      <td>I didnt today Must mean I need take another trip</td>\n",
              "      <td>neutral</td>\n",
              "      <td>0.687500</td>\n",
              "      <td>-0.31250</td>\n",
              "      <td>Negative</td>\n",
              "      <td>{'neg': 0.0, 'neu': 1.0, 'pos': 0.0, 'compound...</td>\n",
              "      <td>0.0000</td>\n",
              "    </tr>\n",
              "    <tr>\n",
              "      <th>3</th>\n",
              "      <td>really aggressive blast obnoxious entertainmen...</td>\n",
              "      <td>negative</td>\n",
              "      <td>0.350000</td>\n",
              "      <td>0.00625</td>\n",
              "      <td>Positive</td>\n",
              "      <td>{'neg': 0.345, 'neu': 0.468, 'pos': 0.187, 'co...</td>\n",
              "      <td>-0.3306</td>\n",
              "    </tr>\n",
              "    <tr>\n",
              "      <th>4</th>\n",
              "      <td>really big bad thing</td>\n",
              "      <td>negative</td>\n",
              "      <td>0.383333</td>\n",
              "      <td>-0.35000</td>\n",
              "      <td>Negative</td>\n",
              "      <td>{'neg': 0.557, 'neu': 0.443, 'pos': 0.0, 'comp...</td>\n",
              "      <td>-0.5829</td>\n",
              "    </tr>\n",
              "  </tbody>\n",
              "</table>\n",
              "</div>"
            ],
            "text/plain": [
              "                                                text  ... compound\n",
              "0                                          What said  ...   0.0000\n",
              "1      plus youve added commercials experience tacky  ...   0.0000\n",
              "2   I didnt today Must mean I need take another trip  ...   0.0000\n",
              "3  really aggressive blast obnoxious entertainmen...  ...  -0.3306\n",
              "4                               really big bad thing  ...  -0.5829\n",
              "\n",
              "[5 rows x 7 columns]"
            ]
          },
          "metadata": {
            "tags": []
          },
          "execution_count": 35
        }
      ]
    },
    {
      "cell_type": "code",
      "metadata": {
        "id": "YLOUQy43UNBP"
      },
      "source": [
        "def analysis(score):\n",
        "  if score <0:\n",
        "    return 'Negative'\n",
        "  elif score==0:\n",
        "    return 'Neutral'\n",
        "  else:\n",
        "    return 'Positive'"
      ],
      "execution_count": null,
      "outputs": []
    },
    {
      "cell_type": "code",
      "metadata": {
        "id": "30v8VFaTSXrd"
      },
      "source": [
        "dataset['duygu_tespiti_2']=dataset['compound'].apply(analysis)"
      ],
      "execution_count": null,
      "outputs": []
    },
    {
      "cell_type": "code",
      "metadata": {
        "colab": {
          "base_uri": "https://localhost:8080/",
          "height": 289
        },
        "id": "DRNDJzzrUUXf",
        "outputId": "f911728e-7bc8-4268-883b-b442191aeedd"
      },
      "source": [
        "dataset.head()"
      ],
      "execution_count": null,
      "outputs": [
        {
          "output_type": "execute_result",
          "data": {
            "text/html": [
              "<div>\n",
              "<style scoped>\n",
              "    .dataframe tbody tr th:only-of-type {\n",
              "        vertical-align: middle;\n",
              "    }\n",
              "\n",
              "    .dataframe tbody tr th {\n",
              "        vertical-align: top;\n",
              "    }\n",
              "\n",
              "    .dataframe thead th {\n",
              "        text-align: right;\n",
              "    }\n",
              "</style>\n",
              "<table border=\"1\" class=\"dataframe\">\n",
              "  <thead>\n",
              "    <tr style=\"text-align: right;\">\n",
              "      <th></th>\n",
              "      <th>text</th>\n",
              "      <th>airline_sentiment</th>\n",
              "      <th>Subjectivity</th>\n",
              "      <th>Polarity</th>\n",
              "      <th>duygu_tespiti_1</th>\n",
              "      <th>scores</th>\n",
              "      <th>compound</th>\n",
              "      <th>duygu_tespiti_2</th>\n",
              "    </tr>\n",
              "  </thead>\n",
              "  <tbody>\n",
              "    <tr>\n",
              "      <th>0</th>\n",
              "      <td>What said</td>\n",
              "      <td>neutral</td>\n",
              "      <td>0.000000</td>\n",
              "      <td>0.00000</td>\n",
              "      <td>Neutral</td>\n",
              "      <td>{'neg': 0.0, 'neu': 1.0, 'pos': 0.0, 'compound...</td>\n",
              "      <td>0.0000</td>\n",
              "      <td>Neutral</td>\n",
              "    </tr>\n",
              "    <tr>\n",
              "      <th>1</th>\n",
              "      <td>plus youve added commercials experience tacky</td>\n",
              "      <td>positive</td>\n",
              "      <td>0.000000</td>\n",
              "      <td>0.00000</td>\n",
              "      <td>Neutral</td>\n",
              "      <td>{'neg': 0.0, 'neu': 1.0, 'pos': 0.0, 'compound...</td>\n",
              "      <td>0.0000</td>\n",
              "      <td>Neutral</td>\n",
              "    </tr>\n",
              "    <tr>\n",
              "      <th>2</th>\n",
              "      <td>I didnt today Must mean I need take another trip</td>\n",
              "      <td>neutral</td>\n",
              "      <td>0.687500</td>\n",
              "      <td>-0.31250</td>\n",
              "      <td>Negative</td>\n",
              "      <td>{'neg': 0.0, 'neu': 1.0, 'pos': 0.0, 'compound...</td>\n",
              "      <td>0.0000</td>\n",
              "      <td>Neutral</td>\n",
              "    </tr>\n",
              "    <tr>\n",
              "      <th>3</th>\n",
              "      <td>really aggressive blast obnoxious entertainmen...</td>\n",
              "      <td>negative</td>\n",
              "      <td>0.350000</td>\n",
              "      <td>0.00625</td>\n",
              "      <td>Positive</td>\n",
              "      <td>{'neg': 0.345, 'neu': 0.468, 'pos': 0.187, 'co...</td>\n",
              "      <td>-0.3306</td>\n",
              "      <td>Negative</td>\n",
              "    </tr>\n",
              "    <tr>\n",
              "      <th>4</th>\n",
              "      <td>really big bad thing</td>\n",
              "      <td>negative</td>\n",
              "      <td>0.383333</td>\n",
              "      <td>-0.35000</td>\n",
              "      <td>Negative</td>\n",
              "      <td>{'neg': 0.557, 'neu': 0.443, 'pos': 0.0, 'comp...</td>\n",
              "      <td>-0.5829</td>\n",
              "      <td>Negative</td>\n",
              "    </tr>\n",
              "  </tbody>\n",
              "</table>\n",
              "</div>"
            ],
            "text/plain": [
              "                                                text  ... duygu_tespiti_2\n",
              "0                                          What said  ...         Neutral\n",
              "1      plus youve added commercials experience tacky  ...         Neutral\n",
              "2   I didnt today Must mean I need take another trip  ...         Neutral\n",
              "3  really aggressive blast obnoxious entertainmen...  ...        Negative\n",
              "4                               really big bad thing  ...        Negative\n",
              "\n",
              "[5 rows x 8 columns]"
            ]
          },
          "metadata": {
            "tags": []
          },
          "execution_count": 56
        }
      ]
    },
    {
      "cell_type": "code",
      "metadata": {
        "id": "9t3L5mu_DDVg"
      },
      "source": [
        "#features = dataset.iloc[:, 0].values\n",
        "labels = dataset.iloc[:, 7].values"
      ],
      "execution_count": null,
      "outputs": []
    },
    {
      "cell_type": "code",
      "metadata": {
        "id": "akHhNKWaHgD9"
      },
      "source": [
        "vectorizer = TfidfVectorizer (max_features=2500, min_df=7, max_df=0.8, stop_words=stopwords.words('english'))\n",
        "processed_features = vectorizer.fit_transform(processed_features_iki).toarray()"
      ],
      "execution_count": null,
      "outputs": []
    },
    {
      "cell_type": "code",
      "metadata": {
        "id": "ZCBwZTmzH1jD"
      },
      "source": [
        "X_train, X_test, y_train, y_test = train_test_split(processed_features, labels, test_size=0.2, random_state=0)"
      ],
      "execution_count": null,
      "outputs": []
    },
    {
      "cell_type": "code",
      "metadata": {
        "colab": {
          "base_uri": "https://localhost:8080/"
        },
        "id": "XBM4yqp8H5wM",
        "outputId": "493c99e2-88c9-413c-ad63-632469562a4d"
      },
      "source": [
        "text_classifier = RandomForestClassifier(n_estimators=200, random_state=0)\n",
        "text_classifier.fit(X_train, y_train)"
      ],
      "execution_count": null,
      "outputs": [
        {
          "output_type": "execute_result",
          "data": {
            "text/plain": [
              "RandomForestClassifier(bootstrap=True, ccp_alpha=0.0, class_weight=None,\n",
              "                       criterion='gini', max_depth=None, max_features='auto',\n",
              "                       max_leaf_nodes=None, max_samples=None,\n",
              "                       min_impurity_decrease=0.0, min_impurity_split=None,\n",
              "                       min_samples_leaf=1, min_samples_split=2,\n",
              "                       min_weight_fraction_leaf=0.0, n_estimators=200,\n",
              "                       n_jobs=None, oob_score=False, random_state=0, verbose=0,\n",
              "                       warm_start=False)"
            ]
          },
          "metadata": {
            "tags": []
          },
          "execution_count": 41
        }
      ]
    },
    {
      "cell_type": "code",
      "metadata": {
        "id": "qPA4zb1rIQpH"
      },
      "source": [
        "predictions = text_classifier.predict(X_test)"
      ],
      "execution_count": null,
      "outputs": []
    },
    {
      "cell_type": "code",
      "metadata": {
        "colab": {
          "base_uri": "https://localhost:8080/"
        },
        "id": "UwTXBOMYIV8d",
        "outputId": "face6b36-93cb-4cac-f7b1-1be8d99d57cb"
      },
      "source": [
        "from sklearn.metrics import classification_report, confusion_matrix, accuracy_score,f1_score\n",
        "\n",
        "print('Confusion Matrix: \\n',confusion_matrix(y_test,predictions))\n",
        "print('Classifiaciton: \\n',classification_report(y_test,predictions))\n",
        "print('Accuracy Score: \\n',accuracy_score(y_test, predictions))\n",
        "print('F1-Score (macro): \\n',f1_score(y_test,predictions,average='macro'))\n",
        "print('F1-Score (weighted): \\n',f1_score(y_test,predictions,average='weighted'))"
      ],
      "execution_count": null,
      "outputs": [
        {
          "output_type": "stream",
          "text": [
            "Confusion Matrix: \n",
            " [[ 697  104  135]\n",
            " [  28  661   16]\n",
            " [ 138  102 1047]]\n",
            "Classifiaciton: \n",
            "               precision    recall  f1-score   support\n",
            "\n",
            "    Negative       0.81      0.74      0.77       936\n",
            "     Neutral       0.76      0.94      0.84       705\n",
            "    Positive       0.87      0.81      0.84      1287\n",
            "\n",
            "    accuracy                           0.82      2928\n",
            "   macro avg       0.81      0.83      0.82      2928\n",
            "weighted avg       0.83      0.82      0.82      2928\n",
            "\n",
            "Accuracy Score: \n",
            " 0.8213797814207651\n",
            "F1-Score (macro): \n",
            " 0.819499262416743\n",
            "F1-Score (weighted): \n",
            " 0.8205815585683027\n"
          ],
          "name": "stdout"
        }
      ]
    },
    {
      "cell_type": "markdown",
      "metadata": {
        "id": "p-yduploX0Mq"
      },
      "source": [
        "# FLAIR ile yapılan analiz"
      ]
    },
    {
      "cell_type": "code",
      "metadata": {
        "id": "ffB44LhWK-wS",
        "colab": {
          "base_uri": "https://localhost:8080/"
        },
        "outputId": "424411ce-860c-40a0-c506-b0691c9f116f"
      },
      "source": [
        "pip install flair"
      ],
      "execution_count": null,
      "outputs": [
        {
          "output_type": "stream",
          "text": [
            "Collecting flair\n",
            "\u001b[?25l  Downloading https://files.pythonhosted.org/packages/68/a0/a1b41fa2fcb23ff71ba9148af75211dcccc35b256dea821b36e1ee871848/flair-0.7-py3-none-any.whl (448kB)\n",
            "\r\u001b[K     |▊                               | 10kB 12.2MB/s eta 0:00:01\r\u001b[K     |█▌                              | 20kB 15.1MB/s eta 0:00:01\r\u001b[K     |██▏                             | 30kB 13.9MB/s eta 0:00:01\r\u001b[K     |███                             | 40kB 8.7MB/s eta 0:00:01\r\u001b[K     |███▋                            | 51kB 4.2MB/s eta 0:00:01\r\u001b[K     |████▍                           | 61kB 4.4MB/s eta 0:00:01\r\u001b[K     |█████▏                          | 71kB 4.8MB/s eta 0:00:01\r\u001b[K     |█████▉                          | 81kB 5.3MB/s eta 0:00:01\r\u001b[K     |██████▋                         | 92kB 5.3MB/s eta 0:00:01\r\u001b[K     |███████▎                        | 102kB 5.7MB/s eta 0:00:01\r\u001b[K     |████████                        | 112kB 5.7MB/s eta 0:00:01\r\u001b[K     |████████▊                       | 122kB 5.7MB/s eta 0:00:01\r\u001b[K     |█████████▌                      | 133kB 5.7MB/s eta 0:00:01\r\u001b[K     |██████████▎                     | 143kB 5.7MB/s eta 0:00:01\r\u001b[K     |███████████                     | 153kB 5.7MB/s eta 0:00:01\r\u001b[K     |███████████▊                    | 163kB 5.7MB/s eta 0:00:01\r\u001b[K     |████████████▍                   | 174kB 5.7MB/s eta 0:00:01\r\u001b[K     |█████████████▏                  | 184kB 5.7MB/s eta 0:00:01\r\u001b[K     |█████████████▉                  | 194kB 5.7MB/s eta 0:00:01\r\u001b[K     |██████████████▋                 | 204kB 5.7MB/s eta 0:00:01\r\u001b[K     |███████████████▍                | 215kB 5.7MB/s eta 0:00:01\r\u001b[K     |████████████████                | 225kB 5.7MB/s eta 0:00:01\r\u001b[K     |████████████████▉               | 235kB 5.7MB/s eta 0:00:01\r\u001b[K     |█████████████████▌              | 245kB 5.7MB/s eta 0:00:01\r\u001b[K     |██████████████████▎             | 256kB 5.7MB/s eta 0:00:01\r\u001b[K     |███████████████████             | 266kB 5.7MB/s eta 0:00:01\r\u001b[K     |███████████████████▊            | 276kB 5.7MB/s eta 0:00:01\r\u001b[K     |████████████████████▌           | 286kB 5.7MB/s eta 0:00:01\r\u001b[K     |█████████████████████▏          | 296kB 5.7MB/s eta 0:00:01\r\u001b[K     |██████████████████████          | 307kB 5.7MB/s eta 0:00:01\r\u001b[K     |██████████████████████▋         | 317kB 5.7MB/s eta 0:00:01\r\u001b[K     |███████████████████████▍        | 327kB 5.7MB/s eta 0:00:01\r\u001b[K     |████████████████████████▏       | 337kB 5.7MB/s eta 0:00:01\r\u001b[K     |████████████████████████▉       | 348kB 5.7MB/s eta 0:00:01\r\u001b[K     |█████████████████████████▋      | 358kB 5.7MB/s eta 0:00:01\r\u001b[K     |██████████████████████████▎     | 368kB 5.7MB/s eta 0:00:01\r\u001b[K     |███████████████████████████     | 378kB 5.7MB/s eta 0:00:01\r\u001b[K     |███████████████████████████▊    | 389kB 5.7MB/s eta 0:00:01\r\u001b[K     |████████████████████████████▌   | 399kB 5.7MB/s eta 0:00:01\r\u001b[K     |█████████████████████████████▎  | 409kB 5.7MB/s eta 0:00:01\r\u001b[K     |██████████████████████████████  | 419kB 5.7MB/s eta 0:00:01\r\u001b[K     |██████████████████████████████▊ | 430kB 5.7MB/s eta 0:00:01\r\u001b[K     |███████████████████████████████▍| 440kB 5.7MB/s eta 0:00:01\r\u001b[K     |████████████████████████████████| 450kB 5.7MB/s \n",
            "\u001b[?25hRequirement already satisfied: gdown in /usr/local/lib/python3.6/dist-packages (from flair) (3.6.4)\n",
            "Collecting langdetect\n",
            "\u001b[?25l  Downloading https://files.pythonhosted.org/packages/56/a3/8407c1e62d5980188b4acc45ef3d94b933d14a2ebc9ef3505f22cf772570/langdetect-1.0.8.tar.gz (981kB)\n",
            "\u001b[K     |████████████████████████████████| 983kB 21.8MB/s \n",
            "\u001b[?25hRequirement already satisfied: torch>=1.1.0 in /usr/local/lib/python3.6/dist-packages (from flair) (1.7.0+cu101)\n",
            "Collecting segtok>=1.5.7\n",
            "  Downloading https://files.pythonhosted.org/packages/41/08/582dab5f4b1d5ca23bc6927b4bb977c8ff7f3a87a3b98844ef833e2f5623/segtok-1.5.10.tar.gz\n",
            "Collecting ftfy\n",
            "\u001b[?25l  Downloading https://files.pythonhosted.org/packages/ff/e2/3b51c53dffb1e52d9210ebc01f1fb9f2f6eba9b3201fa971fd3946643c71/ftfy-5.8.tar.gz (64kB)\n",
            "\u001b[K     |████████████████████████████████| 71kB 6.6MB/s \n",
            "\u001b[?25hRequirement already satisfied: scikit-learn>=0.21.3 in /usr/local/lib/python3.6/dist-packages (from flair) (0.22.2.post1)\n",
            "Requirement already satisfied: hyperopt>=0.1.1 in /usr/local/lib/python3.6/dist-packages (from flair) (0.1.2)\n",
            "Collecting mpld3==0.3\n",
            "\u001b[?25l  Downloading https://files.pythonhosted.org/packages/91/95/a52d3a83d0a29ba0d6898f6727e9858fe7a43f6c2ce81a5fe7e05f0f4912/mpld3-0.3.tar.gz (788kB)\n",
            "\u001b[K     |████████████████████████████████| 798kB 21.5MB/s \n",
            "\u001b[?25hRequirement already satisfied: matplotlib>=2.2.3 in /usr/local/lib/python3.6/dist-packages (from flair) (3.2.2)\n",
            "Requirement already satisfied: regex in /usr/local/lib/python3.6/dist-packages (from flair) (2019.12.20)\n",
            "Requirement already satisfied: gensim<=3.8.3,>=3.4.0 in /usr/local/lib/python3.6/dist-packages (from flair) (3.6.0)\n",
            "Collecting deprecated>=1.2.4\n",
            "  Downloading https://files.pythonhosted.org/packages/76/a1/05d7f62f956d77b23a640efc650f80ce24483aa2f85a09c03fb64f49e879/Deprecated-1.2.10-py2.py3-none-any.whl\n",
            "Requirement already satisfied: lxml in /usr/local/lib/python3.6/dist-packages (from flair) (4.2.6)\n",
            "Collecting konoha<5.0.0,>=4.0.0\n",
            "  Downloading https://files.pythonhosted.org/packages/ea/01/47358efec5396fc80f98273c42cbdfe7aab056252b07884ffcc0f118978f/konoha-4.6.2-py3-none-any.whl\n",
            "Collecting janome\n",
            "\u001b[?25l  Downloading https://files.pythonhosted.org/packages/a8/63/98858cbead27df7536c7e300c169da0999e9704d02220dc6700b804eeff0/Janome-0.4.1-py2.py3-none-any.whl (19.7MB)\n",
            "\u001b[K     |████████████████████████████████| 19.7MB 7.9MB/s \n",
            "\u001b[?25hCollecting bpemb>=0.3.2\n",
            "  Downloading https://files.pythonhosted.org/packages/91/77/3f0f53856e86af32b1d3c86652815277f7b5f880002584eb30db115b6df5/bpemb-0.3.2-py3-none-any.whl\n",
            "Requirement already satisfied: tqdm>=4.26.0 in /usr/local/lib/python3.6/dist-packages (from flair) (4.41.1)\n",
            "Collecting sentencepiece<=0.1.91\n",
            "\u001b[?25l  Downloading https://files.pythonhosted.org/packages/d4/a4/d0a884c4300004a78cca907a6ff9a5e9fe4f090f5d95ab341c53d28cbc58/sentencepiece-0.1.91-cp36-cp36m-manylinux1_x86_64.whl (1.1MB)\n",
            "\u001b[K     |████████████████████████████████| 1.1MB 43.0MB/s \n",
            "\u001b[?25hCollecting sqlitedict>=1.6.0\n",
            "  Downloading https://files.pythonhosted.org/packages/5c/2d/b1d99e9ad157dd7de9cd0d36a8a5876b13b55e4b75f7498bc96035fb4e96/sqlitedict-1.7.0.tar.gz\n",
            "Requirement already satisfied: tabulate in /usr/local/lib/python3.6/dist-packages (from flair) (0.8.7)\n",
            "Collecting transformers<=3.5.1,>=3.5.0\n",
            "\u001b[?25l  Downloading https://files.pythonhosted.org/packages/3a/83/e74092e7f24a08d751aa59b37a9fc572b2e4af3918cb66f7766c3affb1b4/transformers-3.5.1-py3-none-any.whl (1.3MB)\n",
            "\u001b[K     |████████████████████████████████| 1.3MB 44.0MB/s \n",
            "\u001b[?25hRequirement already satisfied: python-dateutil>=2.6.1 in /usr/local/lib/python3.6/dist-packages (from flair) (2.8.1)\n",
            "Requirement already satisfied: requests in /usr/local/lib/python3.6/dist-packages (from gdown->flair) (2.23.0)\n",
            "Requirement already satisfied: six in /usr/local/lib/python3.6/dist-packages (from gdown->flair) (1.15.0)\n",
            "Requirement already satisfied: dataclasses in /usr/local/lib/python3.6/dist-packages (from torch>=1.1.0->flair) (0.8)\n",
            "Requirement already satisfied: typing-extensions in /usr/local/lib/python3.6/dist-packages (from torch>=1.1.0->flair) (3.7.4.3)\n",
            "Requirement already satisfied: numpy in /usr/local/lib/python3.6/dist-packages (from torch>=1.1.0->flair) (1.19.4)\n",
            "Requirement already satisfied: future in /usr/local/lib/python3.6/dist-packages (from torch>=1.1.0->flair) (0.16.0)\n",
            "Requirement already satisfied: wcwidth in /usr/local/lib/python3.6/dist-packages (from ftfy->flair) (0.2.5)\n",
            "Requirement already satisfied: scipy>=0.17.0 in /usr/local/lib/python3.6/dist-packages (from scikit-learn>=0.21.3->flair) (1.4.1)\n",
            "Requirement already satisfied: joblib>=0.11 in /usr/local/lib/python3.6/dist-packages (from scikit-learn>=0.21.3->flair) (1.0.0)\n",
            "Requirement already satisfied: networkx in /usr/local/lib/python3.6/dist-packages (from hyperopt>=0.1.1->flair) (2.5)\n",
            "Requirement already satisfied: pymongo in /usr/local/lib/python3.6/dist-packages (from hyperopt>=0.1.1->flair) (3.11.2)\n",
            "Requirement already satisfied: cycler>=0.10 in /usr/local/lib/python3.6/dist-packages (from matplotlib>=2.2.3->flair) (0.10.0)\n",
            "Requirement already satisfied: pyparsing!=2.0.4,!=2.1.2,!=2.1.6,>=2.0.1 in /usr/local/lib/python3.6/dist-packages (from matplotlib>=2.2.3->flair) (2.4.7)\n",
            "Requirement already satisfied: kiwisolver>=1.0.1 in /usr/local/lib/python3.6/dist-packages (from matplotlib>=2.2.3->flair) (1.3.1)\n",
            "Requirement already satisfied: smart-open>=1.2.1 in /usr/local/lib/python3.6/dist-packages (from gensim<=3.8.3,>=3.4.0->flair) (4.0.1)\n",
            "Requirement already satisfied: wrapt<2,>=1.10 in /usr/local/lib/python3.6/dist-packages (from deprecated>=1.2.4->flair) (1.12.1)\n",
            "Collecting overrides==3.0.0\n",
            "  Downloading https://files.pythonhosted.org/packages/42/8d/caa729f809ecdf8e76fac3c1ff7d3f0b72c398c9dd8a6919927a30a873b3/overrides-3.0.0.tar.gz\n",
            "Requirement already satisfied: protobuf in /usr/local/lib/python3.6/dist-packages (from transformers<=3.5.1,>=3.5.0->flair) (3.12.4)\n",
            "Collecting sacremoses\n",
            "\u001b[?25l  Downloading https://files.pythonhosted.org/packages/7d/34/09d19aff26edcc8eb2a01bed8e98f13a1537005d31e95233fd48216eed10/sacremoses-0.0.43.tar.gz (883kB)\n",
            "\u001b[K     |████████████████████████████████| 890kB 36.5MB/s \n",
            "\u001b[?25hRequirement already satisfied: filelock in /usr/local/lib/python3.6/dist-packages (from transformers<=3.5.1,>=3.5.0->flair) (3.0.12)\n",
            "Requirement already satisfied: packaging in /usr/local/lib/python3.6/dist-packages (from transformers<=3.5.1,>=3.5.0->flair) (20.8)\n",
            "Collecting tokenizers==0.9.3\n",
            "\u001b[?25l  Downloading https://files.pythonhosted.org/packages/4c/34/b39eb9994bc3c999270b69c9eea40ecc6f0e97991dba28282b9fd32d44ee/tokenizers-0.9.3-cp36-cp36m-manylinux1_x86_64.whl (2.9MB)\n",
            "\u001b[K     |████████████████████████████████| 2.9MB 40.9MB/s \n",
            "\u001b[?25hRequirement already satisfied: chardet<4,>=3.0.2 in /usr/local/lib/python3.6/dist-packages (from requests->gdown->flair) (3.0.4)\n",
            "Requirement already satisfied: certifi>=2017.4.17 in /usr/local/lib/python3.6/dist-packages (from requests->gdown->flair) (2020.12.5)\n",
            "Requirement already satisfied: idna<3,>=2.5 in /usr/local/lib/python3.6/dist-packages (from requests->gdown->flair) (2.10)\n",
            "Requirement already satisfied: urllib3!=1.25.0,!=1.25.1,<1.26,>=1.21.1 in /usr/local/lib/python3.6/dist-packages (from requests->gdown->flair) (1.24.3)\n",
            "Requirement already satisfied: decorator>=4.3.0 in /usr/local/lib/python3.6/dist-packages (from networkx->hyperopt>=0.1.1->flair) (4.4.2)\n",
            "Requirement already satisfied: setuptools in /usr/local/lib/python3.6/dist-packages (from protobuf->transformers<=3.5.1,>=3.5.0->flair) (51.0.0)\n",
            "Requirement already satisfied: click in /usr/local/lib/python3.6/dist-packages (from sacremoses->transformers<=3.5.1,>=3.5.0->flair) (7.1.2)\n",
            "Building wheels for collected packages: langdetect, segtok, ftfy, mpld3, sqlitedict, overrides, sacremoses\n",
            "  Building wheel for langdetect (setup.py) ... \u001b[?25l\u001b[?25hdone\n",
            "  Created wheel for langdetect: filename=langdetect-1.0.8-cp36-none-any.whl size=993194 sha256=8af27dc34747521d08e460737dcab314a6a23499eea68553a01a6c03ebee162f\n",
            "  Stored in directory: /root/.cache/pip/wheels/8d/b3/aa/6d99de9f3841d7d3d40a60ea06e6d669e8e5012e6c8b947a57\n",
            "  Building wheel for segtok (setup.py) ... \u001b[?25l\u001b[?25hdone\n",
            "  Created wheel for segtok: filename=segtok-1.5.10-cp36-none-any.whl size=25019 sha256=89feed54f78dc9c64fba1f6c6d4cc436760ca369bfaf10f62d9c323cc33be762\n",
            "  Stored in directory: /root/.cache/pip/wheels/b4/39/f6/9ca1c5cabde964d728023b5751c3a206a5c8cc40252321fb6b\n",
            "  Building wheel for ftfy (setup.py) ... \u001b[?25l\u001b[?25hdone\n",
            "  Created wheel for ftfy: filename=ftfy-5.8-cp36-none-any.whl size=45613 sha256=8e06f795ac29cd8a0fd2a858d3ab7c4aadca05b97382ae22e7acda30a1f0e103\n",
            "  Stored in directory: /root/.cache/pip/wheels/ba/c0/ef/f28c4da5ac84a4e06ac256ca9182fc34fa57fefffdbc68425b\n",
            "  Building wheel for mpld3 (setup.py) ... \u001b[?25l\u001b[?25hdone\n",
            "  Created wheel for mpld3: filename=mpld3-0.3-cp36-none-any.whl size=116678 sha256=a13d3660771751da1524ea2b93735f8445758bfbd02a9b95d8295d115bdda16a\n",
            "  Stored in directory: /root/.cache/pip/wheels/c0/47/fb/8a64f89aecfe0059830479308ad42d62e898a3e3cefdf6ba28\n",
            "  Building wheel for sqlitedict (setup.py) ... \u001b[?25l\u001b[?25hdone\n",
            "  Created wheel for sqlitedict: filename=sqlitedict-1.7.0-cp36-none-any.whl size=14376 sha256=f5d55e0445a8a06f27c82eacb8064520d0365abf921b31d5e4d08df83132bb77\n",
            "  Stored in directory: /root/.cache/pip/wheels/cf/c6/4f/2c64a43f041415eb8b8740bd80e15e92f0d46c5e464d8e4b9b\n",
            "  Building wheel for overrides (setup.py) ... \u001b[?25l\u001b[?25hdone\n",
            "  Created wheel for overrides: filename=overrides-3.0.0-cp36-none-any.whl size=5669 sha256=463edd48ed4f8099098e9b977d94795bed5841608ac559c5661ddabed001071d\n",
            "  Stored in directory: /root/.cache/pip/wheels/6f/1b/ec/6c71a1eb823df7f850d956b2d8c50a6d49c191e1063d73b9be\n",
            "  Building wheel for sacremoses (setup.py) ... \u001b[?25l\u001b[?25hdone\n",
            "  Created wheel for sacremoses: filename=sacremoses-0.0.43-cp36-none-any.whl size=893261 sha256=57bf54edd7b9a34d4b258a964c43bdc7889ff69429c23b39d542ad70bff92b7d\n",
            "  Stored in directory: /root/.cache/pip/wheels/29/3c/fd/7ce5c3f0666dab31a50123635e6fb5e19ceb42ce38d4e58f45\n",
            "Successfully built langdetect segtok ftfy mpld3 sqlitedict overrides sacremoses\n",
            "Installing collected packages: langdetect, segtok, ftfy, mpld3, deprecated, overrides, konoha, janome, sentencepiece, bpemb, sqlitedict, sacremoses, tokenizers, transformers, flair\n",
            "Successfully installed bpemb-0.3.2 deprecated-1.2.10 flair-0.7 ftfy-5.8 janome-0.4.1 konoha-4.6.2 langdetect-1.0.8 mpld3-0.3 overrides-3.0.0 sacremoses-0.0.43 segtok-1.5.10 sentencepiece-0.1.91 sqlitedict-1.7.0 tokenizers-0.9.3 transformers-3.5.1\n"
          ],
          "name": "stdout"
        }
      ]
    },
    {
      "cell_type": "code",
      "metadata": {
        "colab": {
          "base_uri": "https://localhost:8080/",
          "height": 220,
          "referenced_widgets": [
            "8f7e135ebccb451d8a35b560ec408239",
            "d2ca524aacc549d2ad1a4475ba8442f4",
            "7c1d0cb935444ac0bb88ff6b90a59484",
            "a1911a2c8fba4400b4d8d047483537e2",
            "06bfcb3d5e494f0597655043c879f81f",
            "d344ea28e0a34a1ca1a58d7ffda6e95d",
            "c1c7f27d8858494698042a03159dc17b",
            "586b7560a09948278c87119c5d634a4a",
            "73ac01b9a61340f1a6ddde176cfdedf5",
            "cb34c7a34e2647b79343de5c8af5d791",
            "9880ea27d4b041bfa11e07d30cdea97a",
            "dd3744f0da524b599fd620b939843222",
            "2e6d628477ba4d91b2fc4aea36305325",
            "7bbc831324d74492be08ad8fbd6ce90e",
            "dece09743d5147fdba19d9bb2005f57f",
            "c334e7a0cc9f48aa9c818626afb992b2"
          ]
        },
        "id": "ARmgi61hKmqz",
        "outputId": "1a60fc45-7979-4449-dd26-aa118ecc34b9"
      },
      "source": [
        "from flair.models import TextClassifier\n",
        "from flair.data import Sentence\n",
        "import flair\n",
        "from segtok.segmenter import split_single\n",
        "\n",
        "classifier = TextClassifier.load('en-sentiment')"
      ],
      "execution_count": null,
      "outputs": [
        {
          "output_type": "stream",
          "text": [
            "2021-01-04 21:58:46,702 https://nlp.informatik.hu-berlin.de/resources/models/sentiment-curated-distilbert/sentiment-en-mix-distillbert_3.1.pt not found in cache, downloading to /tmp/tmpf6t57qc7\n"
          ],
          "name": "stdout"
        },
        {
          "output_type": "stream",
          "text": [
            "100%|██████████| 266147697/266147697 [00:52<00:00, 5091168.60B/s]"
          ],
          "name": "stderr"
        },
        {
          "output_type": "stream",
          "text": [
            "2021-01-04 21:59:39,330 copying /tmp/tmpf6t57qc7 to cache at /root/.flair/models/sentiment-en-mix-distillbert_3.1.pt\n"
          ],
          "name": "stdout"
        },
        {
          "output_type": "stream",
          "text": [
            "\n"
          ],
          "name": "stderr"
        },
        {
          "output_type": "stream",
          "text": [
            "2021-01-04 21:59:40,061 removing temp file /tmp/tmpf6t57qc7\n",
            "2021-01-04 21:59:40,099 loading file /root/.flair/models/sentiment-en-mix-distillbert_3.1.pt\n"
          ],
          "name": "stdout"
        },
        {
          "output_type": "display_data",
          "data": {
            "application/vnd.jupyter.widget-view+json": {
              "model_id": "8f7e135ebccb451d8a35b560ec408239",
              "version_minor": 0,
              "version_major": 2
            },
            "text/plain": [
              "HBox(children=(FloatProgress(value=0.0, description='Downloading', max=442.0, style=ProgressStyle(description_…"
            ]
          },
          "metadata": {
            "tags": []
          }
        },
        {
          "output_type": "stream",
          "text": [
            "\n"
          ],
          "name": "stdout"
        },
        {
          "output_type": "display_data",
          "data": {
            "application/vnd.jupyter.widget-view+json": {
              "model_id": "73ac01b9a61340f1a6ddde176cfdedf5",
              "version_minor": 0,
              "version_major": 2
            },
            "text/plain": [
              "HBox(children=(FloatProgress(value=0.0, description='Downloading', max=231508.0, style=ProgressStyle(descripti…"
            ]
          },
          "metadata": {
            "tags": []
          }
        },
        {
          "output_type": "stream",
          "text": [
            "\n"
          ],
          "name": "stdout"
        }
      ]
    },
    {
      "cell_type": "code",
      "metadata": {
        "id": "O9Z3EorZLRGT"
      },
      "source": [
        "def make_sentences(text):\n",
        "\n",
        "  \"\"\" Break apart text into a list of sentences \"\"\"\n",
        "  sentences = [sent for sent in split_single(text)]\n",
        "  return sentences"
      ],
      "execution_count": null,
      "outputs": []
    },
    {
      "cell_type": "code",
      "metadata": {
        "id": "-8BmW9WWLUT9"
      },
      "source": [
        "def predict(sentence):\n",
        "  \"\"\" Predict the sentiment of a sentence \"\"\"\n",
        "  if sentence == \"\":\n",
        "    return 0\n",
        "  text = Sentence(sentence)\n",
        "  # stacked_embeddings.embed(text)\n",
        "  classifier.predict(text)\n",
        "  value = text.labels[0].to_dict()['value'] \n",
        "  if value == 'POSITIVE':\n",
        "    result = text.to_dict()['labels'][0]['confidence']\n",
        "  else:\n",
        "    result = -(text.to_dict()['labels'][0]['confidence'])\n",
        "  return round(result, 3)"
      ],
      "execution_count": null,
      "outputs": []
    },
    {
      "cell_type": "code",
      "metadata": {
        "id": "2hvMTDYWLbCM"
      },
      "source": [
        "def get_scores(sentences):\n",
        "  \"\"\" Call predict on every sentence of a text \"\"\"\n",
        "  results = []\n",
        "    \n",
        "  for i in range(0, len(sentences)): \n",
        "    results.append(predict(sentences[i]))\n",
        "\n",
        "  return results\n"
      ],
      "execution_count": null,
      "outputs": []
    },
    {
      "cell_type": "code",
      "metadata": {
        "id": "_iBaACDDLc1M"
      },
      "source": [
        "def get_sum(scores):\n",
        "  result = round(sum(scores), 3)\n",
        "  return result"
      ],
      "execution_count": null,
      "outputs": []
    },
    {
      "cell_type": "code",
      "metadata": {
        "id": "azVtg41vLiHD"
      },
      "source": [
        "dataset['sentences']=dataset.text.apply(make_sentences)"
      ],
      "execution_count": null,
      "outputs": []
    },
    {
      "cell_type": "code",
      "metadata": {
        "id": "EI_sx0i9LuH7"
      },
      "source": [
        "dataset['score']=dataset['sentences'].apply(get_scores)"
      ],
      "execution_count": null,
      "outputs": []
    },
    {
      "cell_type": "code",
      "metadata": {
        "id": "-zSXClP-SLX9"
      },
      "source": [
        "dataset['scores_sum']=dataset.score.apply(get_sum)"
      ],
      "execution_count": null,
      "outputs": []
    },
    {
      "cell_type": "code",
      "metadata": {
        "id": "MVqNcQZ-SLR0"
      },
      "source": [
        "dataset['duygu_tespiti_3']=dataset['scores_sum'].apply(getAnalysis)"
      ],
      "execution_count": null,
      "outputs": []
    },
    {
      "cell_type": "code",
      "metadata": {
        "colab": {
          "base_uri": "https://localhost:8080/",
          "height": 513
        },
        "id": "9rCWZXsxWwtN",
        "outputId": "0261a1d3-7c63-488c-ad20-29bd7c057da8"
      },
      "source": [
        "dataset.head()"
      ],
      "execution_count": null,
      "outputs": [
        {
          "output_type": "execute_result",
          "data": {
            "text/html": [
              "<div>\n",
              "<style scoped>\n",
              "    .dataframe tbody tr th:only-of-type {\n",
              "        vertical-align: middle;\n",
              "    }\n",
              "\n",
              "    .dataframe tbody tr th {\n",
              "        vertical-align: top;\n",
              "    }\n",
              "\n",
              "    .dataframe thead th {\n",
              "        text-align: right;\n",
              "    }\n",
              "</style>\n",
              "<table border=\"1\" class=\"dataframe\">\n",
              "  <thead>\n",
              "    <tr style=\"text-align: right;\">\n",
              "      <th></th>\n",
              "      <th>text</th>\n",
              "      <th>airline_sentiment</th>\n",
              "      <th>Subjectivity</th>\n",
              "      <th>Polarity</th>\n",
              "      <th>duygu_tespiti_1</th>\n",
              "      <th>scores</th>\n",
              "      <th>compound</th>\n",
              "      <th>duygu_tespiti_2</th>\n",
              "      <th>sentences</th>\n",
              "      <th>score</th>\n",
              "      <th>scores_sum</th>\n",
              "      <th>duygu_tespiti_3</th>\n",
              "    </tr>\n",
              "  </thead>\n",
              "  <tbody>\n",
              "    <tr>\n",
              "      <th>0</th>\n",
              "      <td>What said</td>\n",
              "      <td>neutral</td>\n",
              "      <td>0.000000</td>\n",
              "      <td>0.00000</td>\n",
              "      <td>Neutral</td>\n",
              "      <td>{'neg': 0.0, 'neu': 1.0, 'pos': 0.0, 'compound...</td>\n",
              "      <td>0.0000</td>\n",
              "      <td>Neutral</td>\n",
              "      <td>[What said]</td>\n",
              "      <td>[0.995]</td>\n",
              "      <td>0.995</td>\n",
              "      <td>Positive</td>\n",
              "    </tr>\n",
              "    <tr>\n",
              "      <th>1</th>\n",
              "      <td>plus youve added commercials experience tacky</td>\n",
              "      <td>positive</td>\n",
              "      <td>0.000000</td>\n",
              "      <td>0.00000</td>\n",
              "      <td>Neutral</td>\n",
              "      <td>{'neg': 0.0, 'neu': 1.0, 'pos': 0.0, 'compound...</td>\n",
              "      <td>0.0000</td>\n",
              "      <td>Neutral</td>\n",
              "      <td>[plus youve added commercials experience tacky]</td>\n",
              "      <td>[-0.994]</td>\n",
              "      <td>-0.994</td>\n",
              "      <td>Negative</td>\n",
              "    </tr>\n",
              "    <tr>\n",
              "      <th>2</th>\n",
              "      <td>I didnt today Must mean I need take another trip</td>\n",
              "      <td>neutral</td>\n",
              "      <td>0.687500</td>\n",
              "      <td>-0.31250</td>\n",
              "      <td>Negative</td>\n",
              "      <td>{'neg': 0.0, 'neu': 1.0, 'pos': 0.0, 'compound...</td>\n",
              "      <td>0.0000</td>\n",
              "      <td>Neutral</td>\n",
              "      <td>[I didnt today Must mean I need take another t...</td>\n",
              "      <td>[-0.768]</td>\n",
              "      <td>-0.768</td>\n",
              "      <td>Negative</td>\n",
              "    </tr>\n",
              "    <tr>\n",
              "      <th>3</th>\n",
              "      <td>really aggressive blast obnoxious entertainmen...</td>\n",
              "      <td>negative</td>\n",
              "      <td>0.350000</td>\n",
              "      <td>0.00625</td>\n",
              "      <td>Positive</td>\n",
              "      <td>{'neg': 0.345, 'neu': 0.468, 'pos': 0.187, 'co...</td>\n",
              "      <td>-0.3306</td>\n",
              "      <td>Negative</td>\n",
              "      <td>[really aggressive blast obnoxious entertainme...</td>\n",
              "      <td>[-0.989]</td>\n",
              "      <td>-0.989</td>\n",
              "      <td>Negative</td>\n",
              "    </tr>\n",
              "    <tr>\n",
              "      <th>4</th>\n",
              "      <td>really big bad thing</td>\n",
              "      <td>negative</td>\n",
              "      <td>0.383333</td>\n",
              "      <td>-0.35000</td>\n",
              "      <td>Negative</td>\n",
              "      <td>{'neg': 0.557, 'neu': 0.443, 'pos': 0.0, 'comp...</td>\n",
              "      <td>-0.5829</td>\n",
              "      <td>Negative</td>\n",
              "      <td>[really big bad thing]</td>\n",
              "      <td>[-1.0]</td>\n",
              "      <td>-1.000</td>\n",
              "      <td>Negative</td>\n",
              "    </tr>\n",
              "  </tbody>\n",
              "</table>\n",
              "</div>"
            ],
            "text/plain": [
              "                                                text  ... duygu_tespiti_3\n",
              "0                                          What said  ...        Positive\n",
              "1      plus youve added commercials experience tacky  ...        Negative\n",
              "2   I didnt today Must mean I need take another trip  ...        Negative\n",
              "3  really aggressive blast obnoxious entertainmen...  ...        Negative\n",
              "4                               really big bad thing  ...        Negative\n",
              "\n",
              "[5 rows x 12 columns]"
            ]
          },
          "metadata": {
            "tags": []
          },
          "execution_count": 55
        }
      ]
    },
    {
      "cell_type": "code",
      "metadata": {
        "id": "xJwnaJZydaFA"
      },
      "source": [
        "labels = dataset.iloc[:, 11].values"
      ],
      "execution_count": null,
      "outputs": []
    },
    {
      "cell_type": "code",
      "metadata": {
        "id": "chmR8LU4dkMP"
      },
      "source": [
        "vectorizer = TfidfVectorizer (max_features=2500, min_df=7, max_df=0.8, stop_words=stopwords.words('english'))\n",
        "processed_features = vectorizer.fit_transform(processed_features_iki).toarray()"
      ],
      "execution_count": null,
      "outputs": []
    },
    {
      "cell_type": "code",
      "metadata": {
        "id": "YgNYPGXsdnV_"
      },
      "source": [
        "X_train, X_test, y_train, y_test = train_test_split(processed_features, labels, test_size=0.2, random_state=0)"
      ],
      "execution_count": null,
      "outputs": []
    },
    {
      "cell_type": "code",
      "metadata": {
        "colab": {
          "base_uri": "https://localhost:8080/"
        },
        "id": "m5nKdTCRdqDI",
        "outputId": "884c42bd-807c-44fd-b39b-12ebbe3e6ff1"
      },
      "source": [
        "text_classifier = RandomForestClassifier(n_estimators=200, random_state=0)\n",
        "text_classifier.fit(X_train, y_train)"
      ],
      "execution_count": null,
      "outputs": [
        {
          "output_type": "execute_result",
          "data": {
            "text/plain": [
              "RandomForestClassifier(bootstrap=True, ccp_alpha=0.0, class_weight=None,\n",
              "                       criterion='gini', max_depth=None, max_features='auto',\n",
              "                       max_leaf_nodes=None, max_samples=None,\n",
              "                       min_impurity_decrease=0.0, min_impurity_split=None,\n",
              "                       min_samples_leaf=1, min_samples_split=2,\n",
              "                       min_weight_fraction_leaf=0.0, n_estimators=200,\n",
              "                       n_jobs=None, oob_score=False, random_state=0, verbose=0,\n",
              "                       warm_start=False)"
            ]
          },
          "metadata": {
            "tags": []
          },
          "execution_count": 63
        }
      ]
    },
    {
      "cell_type": "code",
      "metadata": {
        "id": "HjHIIJthdvBA"
      },
      "source": [
        "predictions = text_classifier.predict(X_test)"
      ],
      "execution_count": null,
      "outputs": []
    },
    {
      "cell_type": "code",
      "metadata": {
        "colab": {
          "base_uri": "https://localhost:8080/"
        },
        "id": "GtGC1pg0dx9Q",
        "outputId": "9a7b0c0b-07bb-4ca0-c842-c75c77616652"
      },
      "source": [
        "from sklearn.metrics import classification_report, confusion_matrix, accuracy_score,f1_score\n",
        "\n",
        "print('Confusion Matrix: \\n',confusion_matrix(y_test,predictions))\n",
        "print('Classifiaciton: \\n',classification_report(y_test,predictions))\n",
        "print('Accuracy Score: \\n',accuracy_score(y_test, predictions))\n",
        "print('F1-Score (macro): \\n',f1_score(y_test,predictions,average='macro'))\n",
        "print('F1-Score (weighted): \\n',f1_score(y_test,predictions,average='weighted'))"
      ],
      "execution_count": null,
      "outputs": [
        {
          "output_type": "stream",
          "text": [
            "Confusion Matrix: \n",
            " [[1821    0  156]\n",
            " [   0    0    2]\n",
            " [ 420    0  529]]\n",
            "Classifiaciton: \n",
            "               precision    recall  f1-score   support\n",
            "\n",
            "    Negative       0.81      0.92      0.86      1977\n",
            "     Neutral       0.00      0.00      0.00         2\n",
            "    Positive       0.77      0.56      0.65       949\n",
            "\n",
            "    accuracy                           0.80      2928\n",
            "   macro avg       0.53      0.49      0.50      2928\n",
            "weighted avg       0.80      0.80      0.79      2928\n",
            "\n",
            "Accuracy Score: \n",
            " 0.8025956284153005\n",
            "F1-Score (macro): \n",
            " 0.5033805520872822\n",
            "F1-Score (weighted): \n",
            " 0.7926035548032448\n"
          ],
          "name": "stdout"
        },
        {
          "output_type": "stream",
          "text": [
            "/usr/local/lib/python3.6/dist-packages/sklearn/metrics/_classification.py:1272: UndefinedMetricWarning: Precision and F-score are ill-defined and being set to 0.0 in labels with no predicted samples. Use `zero_division` parameter to control this behavior.\n",
            "  _warn_prf(average, modifier, msg_start, len(result))\n"
          ],
          "name": "stderr"
        }
      ]
    },
    {
      "cell_type": "code",
      "metadata": {
        "id": "wNIKfgUjpCuj"
      },
      "source": [
        ""
      ],
      "execution_count": null,
      "outputs": []
    },
    {
      "cell_type": "code",
      "metadata": {
        "colab": {
          "base_uri": "https://localhost:8080/",
          "height": 428
        },
        "id": "ojIPrsgle2hi",
        "outputId": "0f9fd246-6e51-4e8e-b66a-45176240ebf9"
      },
      "source": [
        "dataset.head()"
      ],
      "execution_count": null,
      "outputs": [
        {
          "output_type": "execute_result",
          "data": {
            "text/html": [
              "<div>\n",
              "<style scoped>\n",
              "    .dataframe tbody tr th:only-of-type {\n",
              "        vertical-align: middle;\n",
              "    }\n",
              "\n",
              "    .dataframe tbody tr th {\n",
              "        vertical-align: top;\n",
              "    }\n",
              "\n",
              "    .dataframe thead th {\n",
              "        text-align: right;\n",
              "    }\n",
              "</style>\n",
              "<table border=\"1\" class=\"dataframe\">\n",
              "  <thead>\n",
              "    <tr style=\"text-align: right;\">\n",
              "      <th></th>\n",
              "      <th>text</th>\n",
              "      <th>airline_sentiment</th>\n",
              "      <th>Subjectivity</th>\n",
              "      <th>Polarity</th>\n",
              "      <th>duygu_tespiti_1</th>\n",
              "      <th>scores</th>\n",
              "      <th>compound</th>\n",
              "      <th>duygu_tespiti_2</th>\n",
              "      <th>sentences</th>\n",
              "      <th>scores_sum</th>\n",
              "      <th>duygu_tespiti_3</th>\n",
              "    </tr>\n",
              "  </thead>\n",
              "  <tbody>\n",
              "    <tr>\n",
              "      <th>0</th>\n",
              "      <td>What said</td>\n",
              "      <td>neutral</td>\n",
              "      <td>0.000000</td>\n",
              "      <td>0.00000</td>\n",
              "      <td>Neutral</td>\n",
              "      <td>[0.995]</td>\n",
              "      <td>0.0000</td>\n",
              "      <td>Neutral</td>\n",
              "      <td>[What said]</td>\n",
              "      <td>0.995</td>\n",
              "      <td>Positive</td>\n",
              "    </tr>\n",
              "    <tr>\n",
              "      <th>1</th>\n",
              "      <td>plus youve added commercials experience tacky</td>\n",
              "      <td>positive</td>\n",
              "      <td>0.000000</td>\n",
              "      <td>0.00000</td>\n",
              "      <td>Neutral</td>\n",
              "      <td>[-0.994]</td>\n",
              "      <td>0.0000</td>\n",
              "      <td>Neutral</td>\n",
              "      <td>[plus youve added commercials experience tacky]</td>\n",
              "      <td>-0.994</td>\n",
              "      <td>Negative</td>\n",
              "    </tr>\n",
              "    <tr>\n",
              "      <th>2</th>\n",
              "      <td>I didnt today Must mean I need take another trip</td>\n",
              "      <td>neutral</td>\n",
              "      <td>0.687500</td>\n",
              "      <td>-0.31250</td>\n",
              "      <td>Negative</td>\n",
              "      <td>[-0.768]</td>\n",
              "      <td>0.0000</td>\n",
              "      <td>Neutral</td>\n",
              "      <td>[I didnt today Must mean I need take another t...</td>\n",
              "      <td>-0.768</td>\n",
              "      <td>Negative</td>\n",
              "    </tr>\n",
              "    <tr>\n",
              "      <th>3</th>\n",
              "      <td>really aggressive blast obnoxious entertainmen...</td>\n",
              "      <td>negative</td>\n",
              "      <td>0.350000</td>\n",
              "      <td>0.00625</td>\n",
              "      <td>Positive</td>\n",
              "      <td>[-0.989]</td>\n",
              "      <td>-0.3306</td>\n",
              "      <td>Negative</td>\n",
              "      <td>[really aggressive blast obnoxious entertainme...</td>\n",
              "      <td>-0.989</td>\n",
              "      <td>Negative</td>\n",
              "    </tr>\n",
              "    <tr>\n",
              "      <th>4</th>\n",
              "      <td>really big bad thing</td>\n",
              "      <td>negative</td>\n",
              "      <td>0.383333</td>\n",
              "      <td>-0.35000</td>\n",
              "      <td>Negative</td>\n",
              "      <td>[-1.0]</td>\n",
              "      <td>-0.5829</td>\n",
              "      <td>Negative</td>\n",
              "      <td>[really big bad thing]</td>\n",
              "      <td>-1.000</td>\n",
              "      <td>Negative</td>\n",
              "    </tr>\n",
              "  </tbody>\n",
              "</table>\n",
              "</div>"
            ],
            "text/plain": [
              "                                                text  ... duygu_tespiti_3\n",
              "0                                          What said  ...        Positive\n",
              "1      plus youve added commercials experience tacky  ...        Negative\n",
              "2   I didnt today Must mean I need take another trip  ...        Negative\n",
              "3  really aggressive blast obnoxious entertainmen...  ...        Negative\n",
              "4                               really big bad thing  ...        Negative\n",
              "\n",
              "[5 rows x 11 columns]"
            ]
          },
          "metadata": {
            "tags": []
          },
          "execution_count": 119
        }
      ]
    },
    {
      "cell_type": "markdown",
      "metadata": {
        "id": "6okmhZhdgobn"
      },
      "source": [
        "# GENELLEŞTİRME"
      ]
    },
    {
      "cell_type": "code",
      "metadata": {
        "id": "vMPZ0wNye7jS"
      },
      "source": [
        "df=pd.DataFrame(dataset)\n",
        "df.to_csv(r'/content/TweetsAnalysis.csv',index=False)"
      ],
      "execution_count": null,
      "outputs": []
    },
    {
      "cell_type": "code",
      "metadata": {
        "id": "KoBUy_UlgvNp"
      },
      "source": [
        "data_source=\"/content/TweetsAnalysis.csv\"\n",
        "tweets=pd.read_csv(data_source,index_col=['text','airline_sentiment','duygu_tespiti_1','duygu_tespiti_2','duygu_tespiti_3'],usecols=['text','airline_sentiment','duygu_tespiti_1','duygu_tespiti_2','duygu_tespiti_3'])"
      ],
      "execution_count": null,
      "outputs": []
    },
    {
      "cell_type": "code",
      "metadata": {
        "id": "LKSKQCIvjhCa"
      },
      "source": [
        "df=pd.DataFrame(tweets)\n",
        "df.to_csv(r'/content/TweetsDataset.csv')"
      ],
      "execution_count": null,
      "outputs": []
    },
    {
      "cell_type": "code",
      "metadata": {
        "colab": {
          "base_uri": "https://localhost:8080/",
          "height": 218
        },
        "id": "HymPFl3x3wgV",
        "outputId": "0467180e-cc86-4d36-d00c-ec12397c6a34"
      },
      "source": [
        "df.head()"
      ],
      "execution_count": null,
      "outputs": [
        {
          "output_type": "execute_result",
          "data": {
            "text/html": [
              "<div>\n",
              "<style scoped>\n",
              "    .dataframe tbody tr th:only-of-type {\n",
              "        vertical-align: middle;\n",
              "    }\n",
              "\n",
              "    .dataframe tbody tr th {\n",
              "        vertical-align: top;\n",
              "    }\n",
              "\n",
              "    .dataframe thead th {\n",
              "        text-align: right;\n",
              "    }\n",
              "</style>\n",
              "<table border=\"1\" class=\"dataframe\">\n",
              "  <thead>\n",
              "    <tr style=\"text-align: right;\">\n",
              "      <th></th>\n",
              "      <th></th>\n",
              "      <th></th>\n",
              "      <th></th>\n",
              "      <th></th>\n",
              "    </tr>\n",
              "    <tr>\n",
              "      <th>text</th>\n",
              "      <th>airline_sentiment</th>\n",
              "      <th>duygu_tespiti_1</th>\n",
              "      <th>duygu_tespiti_2</th>\n",
              "      <th>duygu_tespiti_3</th>\n",
              "    </tr>\n",
              "  </thead>\n",
              "  <tbody>\n",
              "    <tr>\n",
              "      <th>What said</th>\n",
              "      <th>neutral</th>\n",
              "      <th>Neutral</th>\n",
              "      <th>Neutral</th>\n",
              "      <th>Positive</th>\n",
              "    </tr>\n",
              "    <tr>\n",
              "      <th>plus youve added commercials experience tacky</th>\n",
              "      <th>positive</th>\n",
              "      <th>Neutral</th>\n",
              "      <th>Neutral</th>\n",
              "      <th>Negative</th>\n",
              "    </tr>\n",
              "    <tr>\n",
              "      <th>I didnt today Must mean I need take another trip</th>\n",
              "      <th>neutral</th>\n",
              "      <th>Negative</th>\n",
              "      <th>Neutral</th>\n",
              "      <th>Negative</th>\n",
              "    </tr>\n",
              "    <tr>\n",
              "      <th>really aggressive blast obnoxious entertainment guests faces amp little recourse</th>\n",
              "      <th>negative</th>\n",
              "      <th>Positive</th>\n",
              "      <th>Negative</th>\n",
              "      <th>Negative</th>\n",
              "    </tr>\n",
              "    <tr>\n",
              "      <th>really big bad thing</th>\n",
              "      <th>negative</th>\n",
              "      <th>Negative</th>\n",
              "      <th>Negative</th>\n",
              "      <th>Negative</th>\n",
              "    </tr>\n",
              "  </tbody>\n",
              "</table>\n",
              "</div>"
            ],
            "text/plain": [
              "Empty DataFrame\n",
              "Columns: []\n",
              "Index: [(What said, neutral, Neutral, Neutral, Positive), (plus youve added commercials experience tacky, positive, Neutral, Neutral, Negative), (I didnt today Must mean I need take another trip, neutral, Negative, Neutral, Negative), (really aggressive blast obnoxious entertainment guests faces amp little recourse, negative, Positive, Negative, Negative), (really big bad thing, negative, Negative, Negative, Negative)]"
            ]
          },
          "metadata": {
            "tags": []
          },
          "execution_count": 100
        }
      ]
    },
    {
      "cell_type": "markdown",
      "metadata": {
        "id": "60HO8uDln6ui"
      },
      "source": [
        "# ACCURACY score sütun grafiği"
      ]
    },
    {
      "cell_type": "code",
      "metadata": {
        "id": "jeh4XZHLzeuT",
        "colab": {
          "base_uri": "https://localhost:8080/",
          "height": 336
        },
        "outputId": "2fad01fe-f99f-4382-e026-de1c7a9a05ef"
      },
      "source": [
        "fig = plt.figure()\n",
        "ax = fig.add_axes([0,0,1,1])\n",
        "langs = ['Texblob', 'Vader', 'Flair']\n",
        "value = [0.9019808743169399,0.8213797814207651,0.8025956284153005]\n",
        "ax.bar(langs,value)\n",
        "plt.show()"
      ],
      "execution_count": null,
      "outputs": [
        {
          "output_type": "display_data",
          "data": {
            "image/png": "[encoded data removed]",
            "text/plain": [
              "<Figure size 432x288 with 1 Axes>"
            ]
          },
          "metadata": {
            "tags": [],
            "needs_background": "light"
          }
        }
      ]
    }
  ]
}